{
  "nbformat": 4,
  "nbformat_minor": 0,
  "metadata": {
    "colab": {
      "name": "Tutorial ROS.ipynb",
      "provenance": [],
      "collapsed_sections": [
        "bshuip_b8RUl",
        "YYgHDL7zWHZy",
        "sycBbMqufADL",
        "8VIYCWmpWTmD",
        "d2T7FtqQVUCy",
        "TwYF_3uvYD-w",
        "fy5fGKyBBWk_",
        "_Wft2nZhrPDq",
        "XaWSBioUrn3d",
        "7IbxTVggr2-n",
        "7GOQArMvsnrZ",
        "qly0_oLDs50n",
        "IhaO0i8aul2w",
        "CxbuEF33vEIP",
        "ElNRiKvOIgNe",
        "5Cl75jy7Z2E8",
        "BDnIdZl2ysk9",
        "SKVpBc5ylXLg",
        "42qChhGgEgwF",
        "1febqRMRbiye",
        "nXoJAFr3YxSf",
        "HghKw25Laqsx",
        "xIlQCgbfc01C",
        "fI-2Rd6mj_OK",
        "VUFy_hwt87SB",
        "6QiTHU_K11mf",
        "2it6oDMSGBuj",
        "ixdIusQ4vwKu",
        "MaLtqIun8vf8",
        "F1L2v5tw82fe",
        "WZpUBea5QNJS",
        "s8ILW3tMb77Y",
        "uZRrwsjhd0Qw",
        "FqnMlKAAd6Ck",
        "VYOjl0WSfbn_",
        "XyDXg2jxge7o",
        "4NAyqbkvLwcJ",
        "R4yGyOZVW-_S",
        "RG9tX7fLjSnp",
        "DVCWFjD9l3ug",
        "UylC2bss_8pw",
        "JBtzOttPBA-O",
        "muqcGuq0Hu0p",
        "92tjgZPPNtoV",
        "Czql5EVCQAuS",
        "bsQAuq4VkNFa",
        "30Cb3vkrYvyq",
        "VV3JQOXLhFJ6",
        "cTrBlDwBlmg-",
        "VqiobQyg6moK",
        "Y8QgKvNk83TG",
        "-oum-szL-UuI",
        "eRuwvXz1fJW8",
        "AWShDPlsgEB7",
        "zN-Yy9nwg5mp",
        "v49-5_lLmlcK",
        "BGpETiQdXkcc",
        "8aQQLsBwC2zE"
      ]
    },
    "kernelspec": {
      "name": "python3",
      "display_name": "Python 3"
    },
    "language_info": {
      "name": "python"
    }
  },
  "cells": [
    {
      "cell_type": "markdown",
      "metadata": {
        "id": "bshuip_b8RUl"
      },
      "source": [
        "# Tutorial de ROS\n",
        "\n",
        "Este tutorial é baseado no curso oferecido pelo The Construct. Para mais detalhes, clique [aqui](constructsim.com)!\n"
      ]
    },
    {
      "cell_type": "markdown",
      "source": [
        "# Conteúdo"
      ],
      "metadata": {
        "id": "YYgHDL7zWHZy"
      }
    },
    {
      "cell_type": "markdown",
      "source": [
        "---\n",
        "* Uma visão geral sobre ROS\n",
        "* Instalação e Configuração do Ambiente ROS\n",
        "* Movendo um robô com ROS\n",
        "* Criando um pacote ROS\n",
        "* Primeiro programa em ROS\n",
        "* Entendendo os nós em ROS\n",
        "* Entendendo o roscore\n",
        "* Variáveis de Ambiente\n",
        "* Entendendo Tópicos ROS: Publishers\n",
        "* Criando seu próprio Publisher e movendo seu robô\n",
        "* Entendendo Tópicos ROS: Subscribers & Mensagens\n",
        "* Criando umm Subscriber\n",
        "* Entendendo Serviços em ROS\n",
        "* Entendendo Ações em ROS\n",
        "\n"
      ],
      "metadata": {
        "id": "ZY8eERPJNBUC"
      }
    },
    {
      "cell_type": "markdown",
      "source": [
        "# Principal Objetivo\n",
        "\n",
        "* O objetivo deste tutorial é fornecer as ferramentas e conhecimentos básicos para poder entender e criar qualquer projeto básico relacionado ao ROS. Você poderá mover robôs, ler seus dados de sensores, etc.\n",
        "\n",
        "* Este tutorial também permitirá que você entenda os pacotes que outras pessoas criaram. Assim, você será capaz de adaptar códigos ROS para seus propósitos."
      ],
      "metadata": {
        "id": "sycBbMqufADL"
      }
    },
    {
      "cell_type": "markdown",
      "source": [
        "# Parte 0: Instalação e Configuração do Ambiente ROS"
      ],
      "metadata": {
        "id": "8VIYCWmpWTmD"
      }
    },
    {
      "cell_type": "markdown",
      "source": [
        "## Linux Shell"
      ],
      "metadata": {
        "id": "d2T7FtqQVUCy"
      }
    },
    {
      "cell_type": "markdown",
      "source": [
        "*Linux Shell* nada mais é do que uma ferramenta de comunicação entre você e o sistema Linux. \n",
        "\n",
        "É através dessa ferramenta que iremos enviar comandos ao sistema operacional para que ele execute as tarefas que desejamos.\n",
        "\n",
        "Na maioria dos sistemas Linux, um programa chamado *bash* atua como programa *shell.*\n",
        "\n",
        "A pergunta mais importante é: como abrimos um canal de comunicação entre o Sistema Linux e a gente? "
      ],
      "metadata": {
        "id": "YLi_Wt2qVfzT"
      }
    },
    {
      "cell_type": "markdown",
      "source": [
        "## Terminal\n",
        "\n"
      ],
      "metadata": {
        "id": "TwYF_3uvYD-w"
      }
    },
    {
      "cell_type": "markdown",
      "source": [
        "O *terminal* abre uma janela que nos permite interagir com o shell. Existem vários emuladores de terminal diferentes que podemos usar (aqui vamos utilizar o *Terminator*).\n",
        "\n",
        "Você pode abrir o terminal \n",
        "\n",
        "1.   pressionando diretamente `[ctrl+alt+T]`\n",
        "2.   clicando em \"*Activities*\" na sua área de trabalho, digitando `terminal` na caixa de pesquisa e abrindo o aplicativo *Terminal*.\n",
        "\n",
        "\n",
        "Ele contém algumas informações básicas como o usuário atual ou o *current path* em que você está (você aprenderá mais sobre isso durante o curso, não se preocupe 😃).\n",
        "\n",
        "* No exemplo abaixo, `pvpadrao` é o usuário e `pvpadrao-rosTutorial` é o nome do host (computador).\n",
        "\n",
        "![image.png](https://drive.google.com/uc?export=view&id=1draw96RGojUwrJjBCSih1EOX8cAz1gxn)\n"
      ],
      "metadata": {
        "id": "ru4i5-9nYfCF"
      }
    },
    {
      "cell_type": "markdown",
      "source": [
        "## Instalando ROS"
      ],
      "metadata": {
        "id": "fy5fGKyBBWk_"
      }
    },
    {
      "cell_type": "markdown",
      "source": [
        "* Vamos entender os passos para instalar e configurar o ambiente que você usará ao longo deste tutorial. Neste caso, uma distribuição ROS Noetic instalada em uma máquina Ubuntu 20.04 Focal. \n",
        "\n",
        "* Se você deseja instalar uma versão diferente, consulte a documentação oficial [aqui](http://wiki.ros.org/noetic/Installation)."
      ],
      "metadata": {
        "id": "apqVaQTIqtE4"
      }
    },
    {
      "cell_type": "markdown",
      "source": [
        "### Configurando `sources.list`"
      ],
      "metadata": {
        "id": "_Wft2nZhrPDq"
      }
    },
    {
      "cell_type": "markdown",
      "source": [
        "* Em primeiro lugar, você precisará configurar seu computador para poder baixar pacotes de [packages.ros.org](https://packages.ros.org). \n",
        "\n",
        "* Para isso, execute o comando abaixo em seu terminal:"
      ],
      "metadata": {
        "id": "3iqmMfDhrZIO"
      }
    },
    {
      "cell_type": "code",
      "source": [
        "# Terminal 1\n",
        "sudo sh -c 'echo \"deb http://packages.ros.org/ros/ubuntu $(lsb_release -sc) main\" > /etc/apt/sources.list.d/ros-latest.list'"
      ],
      "metadata": {
        "id": "cpQU7oKfrdLX"
      },
      "execution_count": null,
      "outputs": []
    },
    {
      "cell_type": "markdown",
      "source": [
        "### Configurando suas chaves"
      ],
      "metadata": {
        "id": "XaWSBioUrn3d"
      }
    },
    {
      "cell_type": "markdown",
      "source": [
        "Em seguida, você vai executar o seguinte comando para configurar as chaves:"
      ],
      "metadata": {
        "id": "I0X8G6n3rqZA"
      }
    },
    {
      "cell_type": "code",
      "source": [
        "# Terminal 1\n",
        "sudo apt install curl # caso ainda nao tenha sido instalado\n",
        "curl -s https://raw.githubusercontent.com/ros/rosdistro/master/ros.asc | sudo apt-key add -"
      ],
      "metadata": {
        "id": "MtlXryjHrva4"
      },
      "execution_count": null,
      "outputs": []
    },
    {
      "cell_type": "markdown",
      "source": [
        "### Instalação"
      ],
      "metadata": {
        "id": "7IbxTVggr2-n"
      }
    },
    {
      "cell_type": "markdown",
      "source": [
        "* Em primeiro lugar, vamos ter certeza de que nossa lista de pacotes está atualizada. \n",
        "\n",
        "* Para isso, execute o seguinte comando:"
      ],
      "metadata": {
        "id": "kcaj5ZUYr8zn"
      }
    },
    {
      "cell_type": "code",
      "source": [
        "# Terminal 1\n",
        "sudo apt-get update"
      ],
      "metadata": {
        "id": "N2bGW75Gr_sM"
      },
      "execution_count": null,
      "outputs": []
    },
    {
      "cell_type": "markdown",
      "source": [
        "* O comando acima atualiza a lista de pacotes já existentes no sistema com atualizações disponíveis, bem como novos pacotes que acabaram de chegar aos repositórios."
      ],
      "metadata": {
        "id": "Lw6mFvoWCF3D"
      }
    },
    {
      "cell_type": "markdown",
      "source": [
        "Agora estamos prontos para começar a instalar os pacotes ROS em seu sistema. \n",
        "\n",
        "* Para ter todos os pacotes básicos para começar a trabalhar com o ROS, recomendamos que você instale a versão `Desktop Full`. Para isso, você pode executar o seguinte comando:"
      ],
      "metadata": {
        "id": "AfP0KKS_sGN5"
      }
    },
    {
      "cell_type": "code",
      "source": [
        "# Terminal 1\n",
        "sudo apt-get install ros-noetic-desktop-full"
      ],
      "metadata": {
        "id": "BQw03xUgsN0G"
      },
      "execution_count": null,
      "outputs": []
    },
    {
      "cell_type": "markdown",
      "source": [
        "* Neste ponto, você instalou algumas das ferramentas básicas que o ROS oferece. \n",
        "\n",
        "* Com essas ferramentas, você estará pronto para começar a trabalhar com o ROS. \n",
        "\n",
        "* De qualquer forma, você precisará instalar alguns pacotes extras eventualmente. Para instalar um pacote específico do ROS, você só precisa usar a seguinte estrutura:\n",
        "\n",
        "> `sudo apt-get install ros-noetic-<PACKAGE_NAME>`"
      ],
      "metadata": {
        "id": "gFDWaU3KsUiu"
      }
    },
    {
      "cell_type": "code",
      "source": [
        "# Terminal 1\n",
        "sudo apt-get install ros-noetic-slam-gmapping"
      ],
      "metadata": {
        "id": "9pUQxBOYsezG"
      },
      "execution_count": null,
      "outputs": []
    },
    {
      "cell_type": "markdown",
      "source": [
        "O comando acima irá instalar o pacote `slam-gmapping` para a versão ROS Noetic."
      ],
      "metadata": {
        "id": "_uZtcmtvsj2M"
      }
    },
    {
      "cell_type": "markdown",
      "source": [
        "### Inicializando `rosdep`"
      ],
      "metadata": {
        "id": "7GOQArMvsnrZ"
      }
    },
    {
      "cell_type": "markdown",
      "source": [
        "* Antes que você possa realmente começar a usar o ROS, você precisará inicializar o `rosdep`. \n",
        "\n",
        "* O `rosdep` permitirá que você instale facilmente as dependências do sistema e também é necessário para executar alguns componentes principais no ROS. Para inicializar o `rosdep`, execute o seguinte comando:"
      ],
      "metadata": {
        "id": "2lebjDbFsuQc"
      }
    },
    {
      "cell_type": "code",
      "source": [
        "# Terminal 1\n",
        "sudo apt install python3-rosdep\n",
        "sudo rosdep init\n",
        "rosdep update"
      ],
      "metadata": {
        "id": "3vNw8NLusyL1"
      },
      "execution_count": null,
      "outputs": []
    },
    {
      "cell_type": "markdown",
      "source": [
        "### Configurando o ambiente ROS"
      ],
      "metadata": {
        "id": "qly0_oLDs50n"
      }
    },
    {
      "cell_type": "markdown",
      "source": [
        "Por fim, é recomendado configurar o ambiente ROS sempre que um novo terminal for iniciado. Isto é necessário para carregar funções, variáveis e arquivos de configuração do shell.\n",
        "\n",
        "Para isso, você pode executar o seguinte comando:"
      ],
      "metadata": {
        "id": "_iHRylH0tC-I"
      }
    },
    {
      "cell_type": "code",
      "source": [
        "# Terminal 1\n",
        "source /opt/ros/noetic/setup.bash"
      ],
      "metadata": {
        "id": "03yn2y_EtKFP"
      },
      "execution_count": null,
      "outputs": []
    },
    {
      "cell_type": "markdown",
      "source": [
        "* Você precisará executar o comando `source` todas as vezes que um novo terminal for aberto para que você tenha acesso aos comandos do ROS.\n",
        " \n",
        "* Entretanto, podemos modificar o arquivo `.bashrc` para que não tenhamos que executar o comando source sempre que abrirmos um novo terminal. Para isso, você pode executar o seguinte comando:"
      ],
      "metadata": {
        "id": "0i1zFELKtkRR"
      }
    },
    {
      "cell_type": "code",
      "source": [
        "# Terminal 1\n",
        "echo \"source /opt/ros/noetic/setup.bash\" >> ~/.bashrc"
      ],
      "metadata": {
        "id": "nzxKLscDuH2n"
      },
      "execution_count": null,
      "outputs": []
    },
    {
      "cell_type": "markdown",
      "source": [
        "* Com o comando acima, você adicionará a linha de código `source/opt/ros/noetic/setup.bash `ao seu arquivo `.bashrc`. \n",
        "\n",
        "* Desta forma, cada vez que você abrir um novo terminal em seu computador, todas as variáveis do ambiente ROS serão configuradas automaticamente.\n",
        "\n",
        "* Além disso, esse processo permite que você instale várias distribuições ROS (por exemplo, indigo e noetic) no mesmo computador e alterne entre elas. \n",
        "\n",
        "* Se você também tivesse o ROS Indigo instalado em seu computador local, você poderia alternar entre as duas distribuições usando os comandos abaixo:"
      ],
      "metadata": {
        "id": "j4CXsQcuuOhA"
      }
    },
    {
      "cell_type": "code",
      "source": [
        "source /opt/ros/indigo/setup.bash # To use Indigo"
      ],
      "metadata": {
        "id": "p8p16V8kuhqM"
      },
      "execution_count": null,
      "outputs": []
    },
    {
      "cell_type": "code",
      "source": [
        "source /opt/ros/noetic/setup.bash # To use noetic"
      ],
      "metadata": {
        "id": "mUopihxkujHk"
      },
      "execution_count": null,
      "outputs": []
    },
    {
      "cell_type": "markdown",
      "source": [
        "### Dependências para criação de pacotes"
      ],
      "metadata": {
        "id": "IhaO0i8aul2w"
      }
    },
    {
      "cell_type": "markdown",
      "source": [
        "* Até aqui, você já instalou e configurou tudo o que precisa para executar os pacotes principais do ROS. \n",
        "\n",
        "* De qualquer forma, existem várias ferramentas que você também precisará para gerenciar seus espaços de trabalho do ROS. Para instalar todas essas ferramentas, você pode executar o seguinte comando:"
      ],
      "metadata": {
        "id": "Ti0IoUMaur9Y"
      }
    },
    {
      "cell_type": "code",
      "source": [
        "# Terminal 1\n",
        "sudo apt install python3-rosinstall python3-rosinstall-generator python3-wstool build-essential"
      ],
      "metadata": {
        "id": "K9gnKyFVu08t"
      },
      "execution_count": null,
      "outputs": []
    },
    {
      "cell_type": "markdown",
      "source": [
        "### Testando sua instalação ROS"
      ],
      "metadata": {
        "id": "CxbuEF33vEIP"
      }
    },
    {
      "cell_type": "markdown",
      "source": [
        "Agora vamos testar se nossa configuração realmente funciona e se podemos executar o ROS em nossa máquina local. Para isso, vamos seguir o próximo exemplo."
      ],
      "metadata": {
        "id": "_f63Fp63vL25"
      }
    },
    {
      "cell_type": "code",
      "source": [
        "# Terminal 1\n",
        "roscore"
      ],
      "metadata": {
        "id": "O6Bu4tPzvRlx"
      },
      "execution_count": null,
      "outputs": []
    },
    {
      "cell_type": "markdown",
      "source": [
        "> `roscore` é o principal processo que gerencia todos os sistemas ROS. Portanto, se quisermos fazer algo com o ROS, sempre precisaremos iniciar o `roscore` em um terminal.\n",
        "\n",
        "* Com o `roscore` rodando no Terminal 1, vamos abrir um novo terminal. Neste novo terminal, digite o seguinte comando:"
      ],
      "metadata": {
        "id": "kGI8u3KlvYoI"
      }
    },
    {
      "cell_type": "code",
      "source": [
        "# Terminal 2\n",
        "rostopic list"
      ],
      "metadata": {
        "id": "MGyMfvf6vuZg"
      },
      "execution_count": null,
      "outputs": []
    },
    {
      "cell_type": "markdown",
      "source": [
        "Você deve esperar o seguinte resultando:"
      ],
      "metadata": {
        "id": "flbBndi7v4sB"
      }
    },
    {
      "cell_type": "code",
      "source": [
        "/rosout\n",
        "/rosout_agg"
      ],
      "metadata": {
        "id": "oiud5xEYv9gL"
      },
      "execution_count": null,
      "outputs": []
    },
    {
      "cell_type": "markdown",
      "source": [
        "* `/rosout`: mecanismo de relatório no ROS.\n",
        "\n",
        "* Você pode ler mais sobre `/rosout` [aqui](https://http://library.isr.ist.utl.pt/docs/roswiki/rosout.html)."
      ],
      "metadata": {
        "id": "yIA0i2xGKf_D"
      }
    },
    {
      "cell_type": "markdown",
      "source": [
        "Além disso, você pode executar o comando `roscd` para garantir que seu sistema ROS esteja configurado corretamente."
      ],
      "metadata": {
        "id": "FDH6R5UnwDy_"
      }
    },
    {
      "cell_type": "code",
      "source": [
        "# Terminal 2\n",
        "roscd "
      ],
      "metadata": {
        "id": "AXP9trhlwIOO"
      },
      "execution_count": null,
      "outputs": []
    },
    {
      "cell_type": "markdown",
      "source": [
        "Se tudo estiver OK, você verá o seguinte resultando:"
      ],
      "metadata": {
        "id": "kEJppdUzwMcY"
      }
    },
    {
      "cell_type": "code",
      "source": [
        "/opt/ros/noetic"
      ],
      "metadata": {
        "id": "ac7ut6RBwVW6"
      },
      "execution_count": null,
      "outputs": []
    },
    {
      "cell_type": "markdown",
      "source": [
        "Parabéns! Você instalou ROS no seu computador com sucesso!"
      ],
      "metadata": {
        "id": "vGlNJ_gvwgbD"
      }
    },
    {
      "cell_type": "markdown",
      "source": [
        "## Criando um *Workspace ROS*"
      ],
      "metadata": {
        "id": "ElNRiKvOIgNe"
      }
    },
    {
      "cell_type": "markdown",
      "source": [
        "* Para que possamos construir, modificar e instalar pacotes ROS, precisamos criar um workspace. \n",
        "\n",
        "* Fazemos isso através da criação de um catkin workspace. Se você quiser saber mais sobre o que é catkin, clique [aqui](http://wiki.ros.org/catkin/workspaces#Catkin_Workspaces)!\n",
        "\n",
        "Abra um terminal e copie os seguintes comandos:\n",
        "\n",
        "```\n",
        "mkdir -p ~/catkin_ws/src\n",
        "cd ~/catkin_ws/\n",
        "catkin_make\n",
        "```\n",
        "\n",
        "Vamos analisar cada um dos comandos que você utilizou!\n",
        "\n",
        "O que o sistema Linux executa quando você fornece os seguintes comandos?\n",
        "```\n",
        "mkdir -p ~/catkin_ws/src\n",
        "```\n",
        "Basicamente, o comando `mkdir -p` cria um diretório (pasta) chamado `src` dentro de um outro diretório chamado `catkin_ws`. No sistema Unix, é assim que definimos um path (caminho) para procurarmos nossas files (arquivos): `~/directory_1/directory_1.1/directory_1.1.1` e etc.\n",
        "\n",
        "Você também pode criá-las da mesma maneira que está acostumado: clicando com o botão direito e selecionando a opção *new folder*.\n",
        "\n",
        "O segundo comando\n",
        "\n",
        "```\n",
        "cd ~/catkin_ws/\n",
        "```\n",
        "\n",
        "é utilizado para mudarmos de diretório (**c**hange **d**irectory). Desta maneira, indicamos o path completo do diretório para o qual queremos acessar. Neste caso, `~/catkin_ws/`.\n",
        "\n",
        "Finalmente,\n",
        "```\n",
        "catkin_make\n",
        "```\n",
        "cria o o seu workspace catkin. \n",
        "\n",
        "\n",
        "\n",
        "\n",
        "\n",
        "\n"
      ],
      "metadata": {
        "id": "-LBVF_F5IlQu"
      }
    },
    {
      "cell_type": "markdown",
      "source": [
        "\n",
        "No terminal, digite `ls` para listar todas as pastas dentro da pasta `catkin_ws`. Além da pasta `src` que você criou anteriormente, você deve ter duas outras pastas: `build` e `devel`.\n",
        "\n",
        "![image.png](https://drive.google.com/uc?export=view&id=1IMtwJ0Prbh2lMHsodaRZZn_gzUYfKuVf)\n",
        "\n",
        "* `src`: O espaço de origem (source space) contém o código-fonte. É aqui que você pode clonar, criar e editar o código-fonte dos pacotes que deseja compilar.\n",
        "\n",
        "* `build`: O espaço de compilação (build space) é onde o CMake é invocado para compilar os pacotes no espaço de origem. As informações de cache e outros arquivos intermediários são mantidos aqui.\n",
        "\n",
        "* `devel`: O espaço de desenvolvimento (development space) é onde os target são colocados antes de serem instalado).\n",
        "\n"
      ],
      "metadata": {
        "id": "N4ewuy85M7Pe"
      }
    },
    {
      "cell_type": "markdown",
      "source": [
        "Pronto! Seu workspace ROS está configurado! Para limpar o seu terminal, você pode digitar o comando `clear`."
      ],
      "metadata": {
        "id": "QR5ogZtsNCI_"
      }
    },
    {
      "cell_type": "markdown",
      "source": [
        "## Compilando um pacote"
      ],
      "metadata": {
        "id": "5Cl75jy7Z2E8"
      }
    },
    {
      "cell_type": "markdown",
      "source": [
        "Quando você cria um pacote, normalmente você precisará compilá-lo para fazê-lo funcionar. Existem diferentes métodos que podem ser usados para compilar seus pacotes ROS. Para este curso, utilizaremos o comando `catkin_make` como no passo anterior."
      ],
      "metadata": {
        "id": "3bPLcPKraERc"
      }
    },
    {
      "cell_type": "markdown",
      "source": [
        "Observação mais do que imporante: o comando `catkin_make` irá compilar todo o seu diretório `src`, e por isso, ele precisa ser executado em seu diretório `catkin_ws` para funcionar. Isso é OBRIGATÓRIO. Se você tentar compilar de outro diretório, não funcionará.\n",
        "\n",
        "Após a compilação, também é muito importante atualizar seu workspace. Isso garantirá que o ROS sempre obtenha as alterações mais recentes em seu espaço de trabalho. Para isso, você vai utilizar o seguinte comando:"
      ],
      "metadata": {
        "id": "0cDaiLTmai-T"
      }
    },
    {
      "cell_type": "code",
      "source": [
        "source devel/setup.bash"
      ],
      "metadata": {
        "id": "Sz0e-S7ubVjq"
      },
      "execution_count": null,
      "outputs": []
    },
    {
      "cell_type": "markdown",
      "source": [
        "## Importando repositórios"
      ],
      "metadata": {
        "id": "BDnIdZl2ysk9"
      }
    },
    {
      "cell_type": "markdown",
      "source": [
        "Agora que você já sabe navegar através das pastas utilizando o comando `cd`, vá para a pasta `src` que criamos no passo anterior.\n",
        "\n",
        "Para isso, basta você digitar no terminal \n",
        "```\n",
        "cd ~/catkin_ws/src\n",
        "```\n",
        "\n",
        "Faremos o download de um repositório para utilizarmos ao longo do nosso mini curso. Para isso, execute o comando\n",
        "\n",
        "```\n",
        "git clone https://github.com/pvpadrao/ros_basics\n",
        "```\n"
      ],
      "metadata": {
        "id": "ttf9eWz4y6Uj"
      }
    },
    {
      "cell_type": "markdown",
      "source": [
        "## Instalando Dependências"
      ],
      "metadata": {
        "id": "SKVpBc5ylXLg"
      }
    },
    {
      "cell_type": "code",
      "source": [
        "rosdep install --from-paths src --ignore-src -r -y\n",
        "catkin_make"
      ],
      "metadata": {
        "id": "xUPN7gEBlkqN"
      },
      "execution_count": null,
      "outputs": []
    },
    {
      "cell_type": "markdown",
      "source": [
        "# Parte 1: Uma visão geral sobre ROS"
      ],
      "metadata": {
        "id": "JPQASYvxXFKe"
      }
    },
    {
      "cell_type": "markdown",
      "source": [
        "## Conceitos Gerais"
      ],
      "metadata": {
        "id": "42qChhGgEgwF"
      }
    },
    {
      "cell_type": "markdown",
      "source": [
        "O nó ROS Master permite que todos os outros nós ROS se encontrem e conversem entre si. \n",
        "\n",
        "\n",
        "* Dessa forma, não precisamos declarar especificamente “Envie esses dados do sensor para aquele computador com endereço 127.0.0.1\". \n",
        "\n",
        "* Podemos simplesmente dizer ao Nó 1 para enviar mensagens ao Nó 2 como mostrado na figura.\n",
        "\n",
        "![image.png](https://drive.google.com/uc?export=view&id=1cq6O-yV0_h1eVxvjpZMEy04BMQ-HnV-A)"
      ],
      "metadata": {
        "id": "3PLTXTg0En81"
      }
    },
    {
      "cell_type": "markdown",
      "source": [
        "Como os nós fazem isso? Publicando e se inscrevendo em Tópicos.\n",
        "\n",
        "Por exemplo, suponha que exista uma câmera em nosso robô e que queremos ver as imagens da câmera tanto no próprio robô quanto em outro laptop.\n",
        "\n",
        "Temos um nó de câmera que cuida da comunicação com a câmera, um nó de processamento de imagem no robô que processa dados de imagem e um nó de exibição de imagem que exibe imagens em uma tela. \n",
        "\n",
        "Todos os esses nós se registraram no Master. O nó mestre pode ser visto como uma tabela de pesquisa onde todos os demais nós vão para encontrar exatamente para onde enviar mensagens.\n",
        "\n",
        "![image.png](https://drive.google.com/uc?export=view&id=1IVUkZR3QBX8rcwjdq8kOobGPlxodl-NU)"
      ],
      "metadata": {
        "id": "ER2zfyuXF00o"
      }
    },
    {
      "cell_type": "markdown",
      "source": [
        "Ao se registrar no ROS Master, o nó da câmera informa que publicará um tópico chamado `/image_data` (por exemplo). Os outros nós se inscrevem no tópico `/image_data`.\n",
        "\n",
        "Assim, uma vez que o nó da câmera recebe alguns dados da câmera, ele envia a mensagem `/image_data` diretamente para os outros dois nós (através de TCP/IP).\n",
        "\n",
        "![image.png](https://drive.google.com/uc?export=view&id=1weHbqgM19FF51FzThwIl9g_CMdahCjKw)"
      ],
      "metadata": {
        "id": "LygXrHThH7Q9"
      }
    },
    {
      "cell_type": "markdown",
      "source": [
        "\n",
        "E se eu quiser que o nó de processamento de imagem solicite dados do nó de câmera em um momento específico? Para fazer isso, o ROS implementa os Serviços.\n",
        "\n",
        "Um nó pode registrar um serviço específico com o ROS Master, assim como cadastrar suas mensagens. No exemplo abaixo, o nó de processamento de imagem primeiro solicita `/image_data`. Então, o nó de câmera coleta dados da câmera e, em seguida, envia a resposta.\n",
        "\n",
        "\n",
        "![image.png](https://drive.google.com/uc?export=view&id=13mRgbVYZ3ybcPzl6jDbZZwYtFwVLtQGm)\n"
      ],
      "metadata": {
        "id": "2iEV5fPmIf2X"
      }
    },
    {
      "cell_type": "markdown",
      "source": [
        "## Entendendo o ROS Core"
      ],
      "metadata": {
        "id": "1febqRMRbiye"
      }
    },
    {
      "cell_type": "markdown",
      "source": [
        "Para que tudo isso funcione, precisamos ter um *roscore* em execução. \n",
        "\n",
        "> O *roscore* é o principal processo que gerencia todo o sistema ROS. *roscore* é uma coleção de nós e programas que são pré-requisitos de um sistema ROS.\n",
        "\n",
        "Sempre precisamos ter um *roscore* rodando para trabalhar com ROS. \n",
        "O comando que inicializa um *roscore* é `roscore`."
      ],
      "metadata": {
        "id": "X_HoA1HGijj4"
      }
    },
    {
      "cell_type": "markdown",
      "source": [
        "Quando executamos o roscore, ele irá iniciar:\n",
        "\n",
        "* um ROS master\n",
        "\n",
        "* um servidor de parâmetros ROS\n",
        "\n",
        "* um nó de registro rosout"
      ],
      "metadata": {
        "id": "MRbZ_jiRn3RB"
      }
    },
    {
      "cell_type": "markdown",
      "source": [
        "O *ROS Master* fornece serviços de nomeação e registro para o restante dos nós no sistema ROS. Ele rastreia editores (*publishers*) e assinantes (*subscribers*) de tópicos e serviços. \n",
        "\n",
        "> O papel do *ROS master* é permitir que os nós localizem uns aos outros. Uma vez que esses nós se localizem, eles se comunicam ponto a ponto.\n",
        "\n",
        "O *ROS master* também fornece o Servidor de Parâmetros.\n"
      ],
      "metadata": {
        "id": "eXxHemEBoODM"
      }
    },
    {
      "cell_type": "markdown",
      "source": [
        "O servidor de parâmetros é um dicionário compartilhado. \n",
        "\n",
        "> Os nós usam o servidor de parâmetro para armazenar e recuperar parâmetros em tempo de execução. \n",
        "\n",
        "Ele deve ser visualizado globalmente para que as ferramentas possam inspecionar facilmente o estado de configuração do sistema e modificá-lo, se necessário."
      ],
      "metadata": {
        "id": "R3kd3sMeo-0U"
      }
    },
    {
      "cell_type": "markdown",
      "source": [
        "Finalmente, *rosout* é o nome do mecanismo de relatório de log do console no ROS Permite que você veja o que está acontecendo nos nós que estão sendo executados remotamente e que você talvez não tenha acesso direto."
      ],
      "metadata": {
        "id": "dCs2053JpTDW"
      }
    },
    {
      "cell_type": "markdown",
      "source": [
        "## Tópicos\n"
      ],
      "metadata": {
        "id": "nXoJAFr3YxSf"
      }
    },
    {
      "cell_type": "markdown",
      "source": [
        "Execute os comandos a seguir para termos uma ideia sobre o que são Tópicos"
      ],
      "metadata": {
        "id": "PCMnnbyBXXMJ"
      }
    },
    {
      "cell_type": "code",
      "source": [
        "# Terminal 1\n",
        "source ~catkin_ws/devel/setup.bash\n",
        "catkin_make\n",
        "roslaunch turtlebot_gazebo main.launch \n",
        "\n",
        "# Terminal 2\n",
        "source ~catkin_ws/devel/setup.bash\n",
        "roslaunch publisher_example move.launch"
      ],
      "metadata": {
        "id": "_h9h6Kg1XDfG"
      },
      "execution_count": null,
      "outputs": []
    },
    {
      "cell_type": "markdown",
      "source": [
        "Sempre que você quiser parar de mover o robô e, consequentemente, parar a execução do programa, pressione Ctrl + C no terminal em que o código estiver rodando.\n",
        "\n",
        "* Você notará que, mesmo após interromper o programa, o robô continuará se movendo. Isso ocorre porque o robô continuará ouvindo a última mensagem que você publicou sobre o tópico. Para pará-lo, você terá que executar outro comando.\n",
        "\n",
        "* Em um novo terminal, execute o seguinte comando para parar interromper a tarefa do robô."
      ],
      "metadata": {
        "id": "VBf_l4WaYFPr"
      }
    },
    {
      "cell_type": "code",
      "source": [
        "# Terminal 3\n",
        "source ~catkin_ws/devel/setup.bash\n",
        "roslaunch publisher_example stop.launch"
      ],
      "metadata": {
        "id": "OfIKgIXHYdQh"
      },
      "execution_count": null,
      "outputs": []
    },
    {
      "cell_type": "markdown",
      "source": [
        "\n",
        "* Aposto que você já tem muitas perguntas, certo? O que acabamos de fazer foi inicializar um Publisher, que é um programa ROS que escreve uma mensagem em um tópico, neste caso no tópico `/cmd_vel`. \n",
        "\n",
        "* Este tópico é usado para enviar comandos de velocidade para o robô. Então, ao enviar uma mensagem através deste tópico, fazemos o robô começar a se mover.\n",
        "\n",
        "* Mas... por que o robô continuou se movendo, mesmo depois que paramos o programa? Bem, isso é porque o robô continua ouvindo a última mensagem que foi publicada no tópico, aquela para mover o robô. Então, para interromper sua execução, inicializamos outro Publisher, que, neste caso, publicou uma mensagem que dizia para interromper a tarefa executada pelo robô.\n",
        "\n",
        "* Iremos aprender mais sobre tópicos na Unidade de Tópicos."
      ],
      "metadata": {
        "id": "S_9vshmqEa9u"
      }
    },
    {
      "cell_type": "markdown",
      "source": [
        "## Serviços\n"
      ],
      "metadata": {
        "id": "HghKw25Laqsx"
      }
    },
    {
      "cell_type": "markdown",
      "source": [
        "\n",
        "* Vimos que os tópicos são uma parte muito importante do ROS e que permitem que você se comunique com seu robô. Mas este é o único caminho?\n",
        "\n",
        "* ROS também fornece serviços. Os serviços permitem que você programe uma funcionalidade específica para seu robô. Por exemplo, você pode criar um serviço que faça seu robô se mover por um período específico de tempo e depois parar.\n",
        "\n",
        "* Os serviços são um pouco mais complexos que os tópicos, pois são estruturados em duas partes. De um lado, você tem o Service Server (servidor de serviço), que fornece a funcionalidade para quem quiser usá-lo. Do outro lado, você tem o cliente, que é quem solicita a funcionalidade do serviço.\n",
        "\n",
        "\n",
        "* Vamos ver um exemplo de como você poderia chamar um serviço previamente criado, que faz o robô se mover em círculo por 4 segundos."
      ],
      "metadata": {
        "id": "lkwXibOqEVQc"
      }
    },
    {
      "cell_type": "markdown",
      "source": [
        "IMPORTANTE: Certifique-se de interromper todos os programas anteriores em execução nos terminais (pressionando Ctrl+C) antes de iniciar este exemplo. Além disso, certifique-se de que o robô não esteja se movendo."
      ],
      "metadata": {
        "id": "bdlwBYimbsL_"
      }
    },
    {
      "cell_type": "code",
      "source": [
        "# Terminal 2\n",
        "roslaunch service_demo service_launch.launch"
      ],
      "metadata": {
        "id": "JVHIKv97bj8H"
      },
      "execution_count": null,
      "outputs": []
    },
    {
      "cell_type": "code",
      "source": [
        "# Terminal 3\n",
        "rosservice call /service_demo \"{}\""
      ],
      "metadata": {
        "id": "tEVEtThzbnXn"
      },
      "execution_count": null,
      "outputs": []
    },
    {
      "cell_type": "markdown",
      "source": [
        "**Observação 1**: O serviço deve estar funcionando antes que você possa chamá-lo. Portanto, certifique-se de ter iniciado o serviço antes de chamá-lo.\n",
        "\n",
        "**Observação 2**: Lembre-se de que seu robô começará a se mover a partir do ponto em que você o parou no exemplo anterior."
      ],
      "metadata": {
        "id": "VXzrbXaTb7ug"
      }
    },
    {
      "cell_type": "markdown",
      "source": [
        "No exemplo acima, fizemos duas coisas. \n",
        "\n",
        "* Primeiro, iniciamos o serviço para disponibilizá-lo para que pudesse ser chamado. \n",
        "\n",
        "* Em seguida, executamos um comando que chamou esse serviço. O objetivo deste serviço é mover o robô com uma trajetória circular por 4 segundos e depois pará-lo. Em resumo, chamamos o serviço e o robô começou a realizar esse movimento.\n",
        "\n",
        "Na Unidade de Serviços (Parte 12), veremos mais detalhes sobre serviços em ROS."
      ],
      "metadata": {
        "id": "t2fotJ3qcGGO"
      }
    },
    {
      "cell_type": "markdown",
      "source": [
        "## Ações\n",
        "\n"
      ],
      "metadata": {
        "id": "xIlQCgbfc01C"
      }
    },
    {
      "cell_type": "markdown",
      "source": [
        "* Por enquanto, vimos alguns conceitos sobre tópicos e serviços e como eles permitem que você se comunique com seu robô.\n",
        "\n",
        "* ROS também fornece ações. As ações são semelhantes aos serviços, no sentido de que também fornecem uma funcionalidade para o seu robô. \n",
        "\n",
        "> A principal diferença entre ações e serviços é que quando você chama um serviço, o robô tem que esperar até que o serviço termine antes de fazer outra tarefa. Por outro lado, quando você chama uma ação, seu robô pode continuar fazendo outra tarefa enquanto executa a ação.\n",
        "\n",
        "* Existem outras diferenças, que abordaremos ao longo deste tutorial. Por enquanto, vamos executar um exemplo que utilize uma ação."
      ],
      "metadata": {
        "id": "pJj7Lu5uEQCu"
      }
    },
    {
      "cell_type": "code",
      "source": [
        "# Terminal 2\n",
        "cd catkin_ws/\n",
        "source ~catkin_ws/devel/setup.bash\n",
        "roslaunch action_demo action_launch.launch"
      ],
      "metadata": {
        "id": "4h-SSqhEdePC"
      },
      "execution_count": null,
      "outputs": []
    },
    {
      "cell_type": "code",
      "source": [
        "# Terminal 3\n",
        "cd catkin_ws/\n",
        "source ~catkin_ws/devel/setup.bash\n",
        "roslaunch action_demo_client client_launch.launch"
      ],
      "metadata": {
        "id": "qb2WGzQ6dirZ"
      },
      "execution_count": null,
      "outputs": []
    },
    {
      "cell_type": "markdown",
      "source": [
        "**Observação 1**: O servidor de ação deve estar funcionando antes que você possa chamá-lo. Portanto, certifique-se de ter iniciado o servidor de ação antes de chamá-lo.\n",
        "\n",
        "**Observação 2**: Lembre-se de que seu robô começará a se mover a partir do ponto em que você o parou no exemplo anterior."
      ],
      "metadata": {
        "id": "kvlJNwv0docr"
      }
    },
    {
      "cell_type": "markdown",
      "source": [
        "Basicamente, fizemos duas tarefas no exemplo anterior. \n",
        "\n",
        "* Primeiro, inicializamos o Action Server quando executamos o primeiro comando. \n",
        "\n",
        "* Em seguida, solicitamos ao servidor de ação quando executamos o segundo comando. \n",
        "\n",
        "* Apesar de similar, esse exemplo não é igual ao exemplo anterior com serviços. Existem algumas diferenças importantes entre eles, mesmo que você ainda não consiga ver.\n",
        "\n",
        "* Entederemos melhor o conceito de Ações quando chegarmos na Unidade de Ações (Parte 13)."
      ],
      "metadata": {
        "id": "hTgx311peGt2"
      }
    },
    {
      "cell_type": "markdown",
      "source": [
        "## E então? O que é ROS?"
      ],
      "metadata": {
        "id": "fI-2Rd6mj_OK"
      }
    },
    {
      "cell_type": "markdown",
      "source": [
        "ROS contém bibliotecas e ferramentas para ajudar no desenvolvimento de aplicações de sistemas robóticos. Ele fornece abstração de hardware, drivers de dispositivo, bibliotecas, visualizadores, gerenciamento de pacotes e etc. \n",
        "\n",
        "Um sistema ROS é composto por vários nós independentes, cada um dos quais se comunica com os outros nós usando um modelo de mensagens de publicação/assinatura. Por exemplo, o driver de um sensor específico pode ser implementado como um nó, que publica os dados do sensor em um fluxo de mensagens. Essas mensagens podem ser consumidas por qualquer número de outros nós.\n",
        "\n",
        "Em ROS, os nós não precisam estar no mesmo sistema (podem estar em vários computadores) ou mesmo na mesma arquitetura! Você pode ter um Arduino publicando mensagens, um laptop se inscrevendo nelas e um smartphone Android acionando motores. Isso torna o ROS flexível e adaptável às necessidades do usuário. Outro ponto importante: ROS é de código aberto e mantido por por uma grande comunidade."
      ],
      "metadata": {
        "id": "3e52Zsn9kUsq"
      }
    },
    {
      "cell_type": "markdown",
      "source": [
        "# Parte 2: Movendo um robô com ROS!"
      ],
      "metadata": {
        "id": "VUFy_hwt87SB"
      }
    },
    {
      "cell_type": "markdown",
      "source": [
        "A maneira mais simples (e fácil!) é executando um programa já existente para movermos o robô. Um programa ROS é executado através de **launch files** (arquivos de inicialização).\n",
        "\n",
        "> Como já existe um programa ROS que permite mover o robô usando o teclado, vamos iniciar esse programa ROS para teleoperar o robô.\n",
        "\n",
        "\n",
        "\n"
      ],
      "metadata": {
        "id": "WeDZKPLA9ARp"
      }
    },
    {
      "cell_type": "markdown",
      "source": [
        "## Passo 2.1: Inicializando um Empty World no Gazebo"
      ],
      "metadata": {
        "id": "6QiTHU_K11mf"
      }
    },
    {
      "cell_type": "markdown",
      "source": [
        "* Em primeiro lugar, vamos inicializar um Empty World no Gazebo. \n",
        "\n",
        "* Gazebo é um simulador dinâmico 3D para sistemas robóticos. Iremos utilizar o Gazebo para visualizar as nossas simulações."
      ],
      "metadata": {
        "id": "GRIVzJ_YC_P8"
      }
    },
    {
      "cell_type": "markdown",
      "source": [
        "* Abra um novo terminal (terminal 1) para compilar nosso workspace atraves dos comandos abaixo. \n"
      ],
      "metadata": {
        "id": "OKYln4EGFoGL"
      }
    },
    {
      "cell_type": "code",
      "metadata": {
        "id": "2NU9spDZDQBI"
      },
      "source": [
        "# No terminal 1\n",
        "source /opt/ros/noetic/setup.bash \n",
        "source /usr/share/gazebo/setup.sh\n",
        "cd ~/catkin_ws/\n",
        "catkin_make\n",
        "# Abrindo um empty world\n",
        "# Na pasta ~/catkin_ws, execute:\n",
        "source devel/setup.bash\n",
        "roslaunch gazebo_ros empty_world.launch"
      ],
      "execution_count": null,
      "outputs": []
    },
    {
      "cell_type": "markdown",
      "source": [
        "`roslaunch` é o comando usado para iniciar um programa ROS. \n",
        "\n",
        "Sua estrutura é \n",
        "\n",
        "> `roslaunch <package_name> <launch_file>`.\n",
        "\n",
        "Esse comando tem dois parâmetros: o primeiro é o nome do pacote que contém o arquivo de inicialização e o segundo é o nome do próprio arquivo de inicialização (que está armazenado dentro do pacote)."
      ],
      "metadata": {
        "id": "finKGmLZN8XL"
      }
    },
    {
      "cell_type": "markdown",
      "source": [
        "O arquivo `empty_world.launch` está apresentado abaixo:"
      ],
      "metadata": {
        "id": "lwnONEmwuu0l"
      }
    },
    {
      "cell_type": "code",
      "source": [
        "<launch>\n",
        "  <!-- start gazebo with an empty plane -->\n",
        "  <param name=\"/use_sim_time\" value=\"true\" />\n",
        "  <node name=\"gazebo\" pkg=\"gazebo\" type=\"gazebo\" args=\"$(find gazebo_worlds)/worlds/empty.world\" respawn=\"false\" output=\"screen\"/>\n",
        "</launch>"
      ],
      "metadata": {
        "id": "PYXZC_XKutA5"
      },
      "execution_count": null,
      "outputs": []
    },
    {
      "cell_type": "markdown",
      "source": [
        "* O script `empty_world.launch` inicia o executável do Gazebo com um arquivo mundo padrão (`empty.world`). \n",
        "\n",
        "* O arquivo de mundo é onde você pode personalizar os recursos básicos do simulador, como parâmetros físicos, texturas do solo, iluminação e etc. \n",
        "\n",
        "* Para a maioria dos usuários, o arquivo de mundo padrão carregado por `empty_world.launch` deve ser suficiente. \n",
        "\n",
        "* O parâmetro `/use_sim_time` usa o tempo de simulação ROS no tópico `/clock` publicado pelo Gazebo em vez do tempo do sistema operaticonal."
      ],
      "metadata": {
        "id": "hjSoOXXyt0ey"
      }
    },
    {
      "cell_type": "markdown",
      "source": [
        "## Passo 2.2: Carregando o seu robô no Gazebo"
      ],
      "metadata": {
        "id": "2it6oDMSGBuj"
      }
    },
    {
      "cell_type": "markdown",
      "source": [
        "Abra um novo terminal (terminal 2) para carregar o robô usando os comandos abaixo. "
      ],
      "metadata": {
        "id": "qFWbXU7yGpUe"
      }
    },
    {
      "cell_type": "code",
      "metadata": {
        "id": "qST47GqPlzBM"
      },
      "source": [
        "# No terminal 2, mude seu diretorio para o workspace catkin\n",
        "cd ~/catkin_ws/\n",
        "source devel/setup.bash\n",
        "# Na pasta ~/catkin_ws, execute:\n",
        "roslaunch m2wr_description spawn.launch"
      ],
      "execution_count": null,
      "outputs": []
    },
    {
      "cell_type": "markdown",
      "source": [
        "## Passo 2.3: Controlando seu robô pelo teclado"
      ],
      "metadata": {
        "id": "ixdIusQ4vwKu"
      }
    },
    {
      "cell_type": "markdown",
      "source": [
        "Para instalar um Teclado de Teleoperação Genérico para ROS (Generic Keyboard Teleop), execute:"
      ],
      "metadata": {
        "id": "gRriassBvL7J"
      }
    },
    {
      "cell_type": "code",
      "source": [
        "sudo apt-get install ros-noetic-teleop-twist-keyboard"
      ],
      "metadata": {
        "id": "9SHK7EwqHpFo"
      },
      "execution_count": null,
      "outputs": []
    },
    {
      "cell_type": "markdown",
      "source": [
        "Para controlar o robô usando o teclado, execute:\n"
      ],
      "metadata": {
        "id": "-dNkSkMTvXAN"
      }
    },
    {
      "cell_type": "code",
      "source": [
        "rosrun teleop_twist_keyboard teleop_twist_keyboard.py"
      ],
      "metadata": {
        "id": "8tanU1qevZCQ"
      },
      "execution_count": null,
      "outputs": []
    },
    {
      "cell_type": "markdown",
      "source": [
        "Abaixo você encontra as instruções para mover o robô pelo teclado:"
      ],
      "metadata": {
        "id": "bPVO6SNGvjaw"
      }
    },
    {
      "cell_type": "code",
      "source": [
        "Reading from the keyboard  and Publishing to Twist!\n",
        "---------------------------\n",
        "Moving around:\n",
        "   u    i    o\n",
        "   j    k    l\n",
        "   m    ,    .\n",
        "\n",
        "q/z : increase/decrease max speeds by 10%\n",
        "w/x : increase/decrease only linear speed by 10%\n",
        "e/c : increase/decrease only angular speed by 10%\n",
        "anything else : stop\n",
        "\n",
        "CTRL-C to quit"
      ],
      "metadata": {
        "id": "9-J1co-BvavU"
      },
      "execution_count": null,
      "outputs": []
    },
    {
      "cell_type": "markdown",
      "source": [
        "Os comandos básicos para mover um robô no Gazebo utilizando o teclado podem ser vistos mna figura abaixo\n",
        "\n",
        "![image.png](https://drive.google.com/uc?export=view&id=14tOc0NnvbzxdeSPViY-ZyidzXdBbmdH9)"
      ],
      "metadata": {
        "id": "5wz2h79xQn0Q"
      }
    },
    {
      "cell_type": "markdown",
      "source": [
        "# Parte 3: Criando o seu próprio pacote ROS"
      ],
      "metadata": {
        "id": "MaLtqIun8vf8"
      }
    },
    {
      "cell_type": "markdown",
      "source": [
        "## 3.1: O que é um ROS package?"
      ],
      "metadata": {
        "id": "F1L2v5tw82fe"
      }
    },
    {
      "cell_type": "markdown",
      "source": [
        "ROS utiliza pacotes para organizar seus programas.  \n",
        "\n",
        "> Um ROS package é o conjunto de todos os arquivos de um programa ROS; todos os seus arquivos python, arquivos de configuração, arquivos de compilação, arquivos de inicialização e arquivos de parâmetros.\n",
        "\n",
        "Todos esses arquivos no pacote são organizados com a seguinte estrutura:\n",
        "\n",
        "\n",
        "\n",
        "* **launch folder**: Contem os arquivos de inicializacao\n",
        "* **src folder**: contem os arquivos fonte (cpp, python)\n",
        "* **CMakeLists.txt**: lista de todas as regras cmake usadas para compilação\n",
        "* **package.xml**: Informações adicionais do pacote suas dependencias\n",
        "\n",
        "\n",
        "Para acessar qualquer pacote ROS, utilizamos o comando chamado roscd.\n",
        "\n",
        ">  ``roscd <package_name>``\n",
        "\n",
        "``roscd`` fornece o path de onde o pacote ``package_name`` está localizado."
      ],
      "metadata": {
        "id": "CPg3uQXzOoG1"
      }
    },
    {
      "cell_type": "markdown",
      "source": [
        "## 3.2: Criando um ROS package"
      ],
      "metadata": {
        "id": "WZpUBea5QNJS"
      }
    },
    {
      "cell_type": "markdown",
      "source": [
        "Quando queremos criar pacotes, precisamos trabalhar em um espaço de trabalho ROS muito específico, conhecido como espaço de trabalho catkin. \n",
        "\n",
        "O workspace catkin é o diretório em seu disco rígido onde seus pacotes ROS devem estar para serem usados pelo ROS. Normalmente, o diretório do espaço de trabalho catkin é chamado catkin_ws."
      ],
      "metadata": {
        "id": "SfYukn_xSBdT"
      }
    },
    {
      "cell_type": "markdown",
      "source": [
        "Va para a pasta do seu workspace catkin utilizando os comandos\n",
        "\n"
      ],
      "metadata": {
        "id": "43rH00dfTIq9"
      }
    },
    {
      "cell_type": "code",
      "source": [
        "roscd\n",
        "cd .."
      ],
      "metadata": {
        "id": "WjC1uADeTicf"
      },
      "execution_count": null,
      "outputs": []
    },
    {
      "cell_type": "markdown",
      "source": [
        "Dentro do workspace catkin, existe um diretório chamado `src`. Esta pasta conterá todos os pacotes criados. Toda vez que você quiser criar um novo pacote, você deve estar neste diretório (`catkin_ws/src`). Execute o comando a seguir para ir para a pasta src."
      ],
      "metadata": {
        "id": "HZ6XwW9NToeW"
      }
    },
    {
      "cell_type": "code",
      "source": [
        "cd src"
      ],
      "metadata": {
        "id": "ut200AxGUArT"
      },
      "execution_count": null,
      "outputs": []
    },
    {
      "cell_type": "markdown",
      "source": [
        "Agora estamos prontos para criar nosso primeiro pacote! Para criar um pacote, digite no terminal:"
      ],
      "metadata": {
        "id": "PFRQtE8KUEs_"
      }
    },
    {
      "cell_type": "code",
      "source": [
        "catkin_create_pkg my_examples_pkg rospy std_msgs"
      ],
      "metadata": {
        "id": "p9ZKVY49UE-N"
      },
      "execution_count": null,
      "outputs": []
    },
    {
      "cell_type": "markdown",
      "source": [
        "Esse comando criara dentro do nosso diretório `src` um novo pacote com alguns arquivos nele. Ja iremos analisa-los. Antes, vamos ver como o comando `` catkin_create_pkg`` é construído:"
      ],
      "metadata": {
        "id": "sFKxePODUR8H"
      }
    },
    {
      "cell_type": "code",
      "source": [
        "catkin_create_pkg <package_name> <package_dependecies>"
      ],
      "metadata": {
        "id": "TlsaZOR0UcHj"
      },
      "execution_count": null,
      "outputs": []
    },
    {
      "cell_type": "markdown",
      "source": [
        "O `package_name` é o nome do pacote que você deseja criar e o `package_dependencies` são os nomes de outros pacotes ROS dos quais seu pacote depende."
      ],
      "metadata": {
        "id": "YPWQXGTtU02D"
      }
    },
    {
      "cell_type": "markdown",
      "source": [
        "Neste exemplo, as dependências necessárias foram\n",
        "\n",
        "* `rospy`: permite que a gente interaja de forma facilitada com os tópicos, serviços e parâmetros do ROS utilizando Python.\n",
        "\n",
        "* `std_msgs`: fornece mensagens ROS padrão."
      ],
      "metadata": {
        "id": "hm0f4B6L_Kz9"
      }
    },
    {
      "cell_type": "markdown",
      "source": [
        "# Parte 4: Nosso primeiro programa em ROS"
      ],
      "metadata": {
        "id": "s8ILW3tMb77Y"
      }
    },
    {
      "cell_type": "markdown",
      "source": [
        "## 4.1: Criando um nó"
      ],
      "metadata": {
        "id": "uZRrwsjhd0Qw"
      }
    },
    {
      "cell_type": "markdown",
      "source": [
        "No diretório `src` em `my_examples_pkg`, crie um arquivo Python para ser executado ao longo do tutorial. Para abrir o bloco de notas via terminal, digite o comando `gedit` e pressione Enter.\n",
        "\n",
        "Para este exercício, apenas copie o script python abaixo em um bloco de notas e salve o arquivo como `simple.py` no diretorio `catkin_ws/src/my_examples_pkg/src`. "
      ],
      "metadata": {
        "id": "c5h6EMLucLEz"
      }
    },
    {
      "cell_type": "code",
      "source": [
        "#! /usr/bin/env python3 \n",
        "# Esta linha garantirá que o interpretador usado seja o primeiro no $PATH do seu ambiente. Todo arquivo Python precisa\n",
        "# começar com esta linha no topo.\n",
        "\n",
        "import rospy # Importe o rospy, uma biblioteca Python para ROS.\n",
        "rospy.init_node('myBot') # Inicie um no chamado myBot\n",
        "print(\"Hello, World! That's my first ROS program!\") # Publique sua primeira mensagem\n"
      ],
      "metadata": {
        "id": "Fank9v7hWsFm"
      },
      "execution_count": null,
      "outputs": []
    },
    {
      "cell_type": "markdown",
      "source": [
        "Pode acontecer de o seu arquivo simple.py tenha sido criado sem permissões de execução. Se isso acontecer, o ROS não poderá encontrá-lo. Se este for o caso, va para o diretorio `catkin_ws/src/my_examples_pkg/src` e e entao você pode dar permissões de execução ao arquivo digitando o seguinte comando no terminal\n",
        "\n",
        "`chmod +x simple.py`"
      ],
      "metadata": {
        "id": "SEDeDl7wkpHu"
      }
    },
    {
      "cell_type": "markdown",
      "source": [
        "## 4.2: Criando o diretório de inicialização (launch)"
      ],
      "metadata": {
        "id": "FqnMlKAAd6Ck"
      }
    },
    {
      "cell_type": "markdown",
      "source": [
        "Crie um diretório de inicialização (launch) dentro do pacote `my_examples_pkg`. Você pode cria-lo executando os comandos abaixo no terminal ou dentro do proprio diretorio `my_examples_pkg`."
      ],
      "metadata": {
        "id": "o8ZirLM_d9Ey"
      }
    },
    {
      "cell_type": "code",
      "source": [
        "cd ~/catkin_ws/src/my_examples_pkg\n",
        "mkdir launch"
      ],
      "metadata": {
        "id": "Gbe79Cd0eEuo"
      },
      "execution_count": null,
      "outputs": []
    },
    {
      "cell_type": "markdown",
      "source": [
        "## 4.3: Criando um arquivo launch (inicialização)"
      ],
      "metadata": {
        "id": "VYOjl0WSfbn_"
      }
    },
    {
      "cell_type": "markdown",
      "source": [
        "* Arquivos de inicialização (launch files) são muito comuns no ROS. \n",
        "\n",
        "* Eles fornecem uma maneira conveniente de inicializar o nó mestre e vários outros, bem como outros requisitos de inicialização, como a configuração de parâmetros."
      ],
      "metadata": {
        "id": "fZuphQO6LJVl"
      }
    },
    {
      "cell_type": "markdown",
      "source": [
        "Crie um novo arquivo launch dentro do diretório launch"
      ],
      "metadata": {
        "id": "N_r4ahY5fJNN"
      }
    },
    {
      "cell_type": "code",
      "source": [
        "touch launch/my_package_launch_file.launch"
      ],
      "metadata": {
        "id": "em5O6eCYfjpt"
      },
      "execution_count": null,
      "outputs": []
    },
    {
      "cell_type": "markdown",
      "source": [
        "E copie e cole o seguinte script:"
      ],
      "metadata": {
        "id": "Ib_Xg6BLgMpH"
      }
    },
    {
      "cell_type": "code",
      "source": [
        "<launch>\n",
        "    <!-- My Package launch file -->\n",
        "    <node pkg=\"my_examples_pkg\" type=\"simple.py\" name=\"myBot\"  output=\"screen\">\n",
        "    </node>\n",
        "</launch>"
      ],
      "metadata": {
        "id": "KhIVOMdCgRYs"
      },
      "execution_count": null,
      "outputs": []
    },
    {
      "cell_type": "markdown",
      "source": [
        "* `node pkg`: nome do pacote no qual o arquivo launch está sendo criado\n",
        "\n",
        "* `type`: identifica qual programa deve ser executado para iniciar este nó\n",
        "\n",
        "* `name`: nome do nó\n",
        "\n",
        "* `output`: nós iniciados com este atributo exibirão sua saída padrão na tela em vez de nos arquivos de log."
      ],
      "metadata": {
        "id": "--81F-RoJVmg"
      }
    },
    {
      "cell_type": "markdown",
      "source": [
        "## 4.4: Executando nosso primeiro programa ROS"
      ],
      "metadata": {
        "id": "XyDXg2jxge7o"
      }
    },
    {
      "cell_type": "markdown",
      "source": [
        "Por fim, execute o comando roslaunch no terminal para iniciar seu programa."
      ],
      "metadata": {
        "id": "esyhMH4Zgh4j"
      }
    },
    {
      "cell_type": "code",
      "source": [
        "roslaunch my_examples_pkg my_package_launch_file.launch"
      ],
      "metadata": {
        "id": "9Ri9ZI1jgn-2"
      },
      "execution_count": null,
      "outputs": []
    },
    {
      "cell_type": "markdown",
      "source": [
        "Você deve ver um resultado similar no seu terminal:"
      ],
      "metadata": {
        "id": "0Dm84N1cWaiq"
      }
    },
    {
      "cell_type": "code",
      "source": [
        "started roslaunch server http://ecs238-d669:36699/\n",
        "\n",
        "SUMMARY\n",
        "========\n",
        "\n",
        "PARAMETERS\n",
        " * /rosdistro: noetic\n",
        " * /rosversion: 1.14.12\n",
        "\n",
        "NODES\n",
        "  /\n",
        "    myBot (my_package/simple.py)\n",
        "\n",
        "auto-starting new master\n",
        "process[master]: started with pid [22166]\n",
        "ROS_MASTER_URI=http://localhost:11311\n",
        "\n",
        "setting /run_id to 466bab2e-892a-11ec-b25a-d89ef3418e09\n",
        "process[rosout-1]: started with pid [22179]\n",
        "started core service [/rosout]\n",
        "process[myBot-2]: started with pid [22184]\n",
        "Hello, World! That's my first ROS program!\n",
        "[myBot-2] process has finished cleanly\n",
        "log file: /lclhome/plope113/.ros/log/466bab2e-892a-11ec-b25a-d89ef3418e09/myBot-2*.log\n",
        "^C[rosout-1] killing on exit\n",
        "[master] killing on exit\n",
        "shutting down processing monitor...\n",
        "... shutting down processing monitor complete\n",
        "done\n"
      ],
      "metadata": {
        "id": "lzeB0t-3WiAX"
      },
      "execution_count": null,
      "outputs": []
    },
    {
      "cell_type": "markdown",
      "source": [
        "## Os comandos `rosrun` e `roslaunch`"
      ],
      "metadata": {
        "id": "4NAyqbkvLwcJ"
      }
    },
    {
      "cell_type": "markdown",
      "source": [
        "Existem algumas diferenças entre os comandos `rosrun` e `roslaunch`, mas as principais são: \n",
        "\n",
        "* `rosrun` pode iniciar apenas um nó por vez, a partir de um único pacote. Não inicializa automaticamente o `roscore` (nó mestre).\n",
        "\n",
        "* `roslaunch` pode iniciar dois ou mais nós ao mesmo tempo, a partir de vários pacotes. Iniciará automaticamente o `roscore` (se ainda não estiver em execução)."
      ],
      "metadata": {
        "id": "b0IcLs8rL6wB"
      }
    },
    {
      "cell_type": "markdown",
      "source": [
        "# Parte 5: Entendendo os Nós em ROS"
      ],
      "metadata": {
        "id": "R4yGyOZVW-_S"
      }
    },
    {
      "cell_type": "markdown",
      "source": [
        "Você iniciou um nó no código anterior, mas... o que é um nó? \n",
        "\n",
        "* Os nós ROS são basicamente programas feitos em ROS.\n",
        "\n",
        "* Os nós são abstrações do nosso sistema real. Podemos criar um nó para representar um sensor ou um atuador do nosso robô, por exemplo. \n",
        "\n",
        "* O comando ROS para ver quais nós estão realmente rodando em um computador é: `rosnode list`"
      ],
      "metadata": {
        "id": "k8jAjdYKXMwF"
      }
    },
    {
      "cell_type": "markdown",
      "source": [
        "Digite este comando em um novo shell e procure o nó que você acabou de iniciar (myBot).\n",
        "Você não pode encontrá-lo? Eu sei que você não pode. Isso porque o nó é finalizado quando o programa Python termina.\n",
        "Vamos mudar isso!\n",
        "\n",
        "Atualize seu arquivo` simple.py` com o seguinte código:"
      ],
      "metadata": {
        "id": "Ar_a-uR-X0rw"
      }
    },
    {
      "cell_type": "code",
      "source": [
        "#! /usr/bin/env python3\n",
        "\n",
        "import rospy\n",
        "\n",
        "rospy.init_node(\"myBot\")\n",
        "rate = rospy.Rate(2)               # Cria um objeto Rate de 2Hz\n",
        "\n",
        "# Cria um loop que se repete 2 vezes por segundo (2Hz) até que alguém pressione Ctrl + C\n",
        "# no terminal\n",
        "while not rospy.is_shutdown():     # Loop ate que seja pressionado Ctrl + C\n",
        "   print(\"Hello, World! That's my first ROS program!\")\n",
        "   rate.sleep()                    \n",
        "    \n"
      ],
      "metadata": {
        "id": "JbZ7RE24YEv7"
      },
      "execution_count": null,
      "outputs": []
    },
    {
      "cell_type": "markdown",
      "source": [
        "Inicie seu programa novamente usando o comando roslaunch. "
      ],
      "metadata": {
        "id": "ZpIfX-61Xsgz"
      }
    },
    {
      "cell_type": "code",
      "source": [
        "roslaunch my_examples_pkg my_package_launch_file.launch"
      ],
      "metadata": {
        "id": "OXnAAyGaZKC4"
      },
      "execution_count": null,
      "outputs": []
    },
    {
      "cell_type": "markdown",
      "source": [
        "Em um novo terminal, tente novamente usar o comando `rosnode list`. Achou o no /myBot?\n",
        "\n",
        "Para ver informações sobre o nó, podemos usar o próximo comando:\n",
        "\n",
        "`rosnode info /myBot`\n",
        "\n",
        "Este comando nos mostrará informações sobre todas as conexões que nosso nó possui."
      ],
      "metadata": {
        "id": "m9OdnEp-ZMYD"
      }
    },
    {
      "cell_type": "code",
      "source": [
        "Node [/myBot]\n",
        "Publications: \n",
        " * /rosout [rosgraph_msgs/Log]\n",
        "\n",
        "Subscriptions: None\n",
        "\n",
        "Services: \n",
        " * /myBot/get_loggers\n",
        " * /myBot/set_logger_level\n",
        "\n",
        "\n",
        "contacting node http://ecs238-d669:43129/ ...\n",
        "Pid: 22585\n",
        "Connections:\n",
        " * topic: /rosout\n",
        "    * to: /rosout\n",
        "    * direction: outbound (41417 - 131.94.129.165:41824) [7]\n",
        "    * transport: TCPROS\n"
      ],
      "metadata": {
        "id": "FhO58hweY2wr"
      },
      "execution_count": null,
      "outputs": []
    },
    {
      "cell_type": "markdown",
      "source": [
        "Por enquanto, não se preocupe com o output do comando. Você entenderá mais ao passar pelos próximos passos."
      ],
      "metadata": {
        "id": "IeTnXx90Y_T0"
      }
    },
    {
      "cell_type": "markdown",
      "source": [
        "# Parte 6: Variáveis de Ambiente"
      ],
      "metadata": {
        "id": "RG9tX7fLjSnp"
      }
    },
    {
      "cell_type": "markdown",
      "source": [
        "O ROS usa um conjunto de variáveis de ambiente do sistema Linux para funcionar corretamente. Você pode verificar essas variáveis digitando:`export | grep ROS`"
      ],
      "metadata": {
        "id": "QljifYFljW9U"
      }
    },
    {
      "cell_type": "code",
      "source": [
        "declare -x ROS_DISTRO=\"melodic\"\n",
        "declare -x ROS_ETC_DIR=\"/opt/ros/melodic/etc/ros\"\n",
        "declare -x ROS_MASTER_URI=\"http://localhost:11311\"\n",
        "declare -x ROS_PACKAGE_PATH=\"/lclhome/plope113/catkin_ws/src:/opt/ros/melodic/share\"\n",
        "declare -x ROS_PYTHON_VERSION=\"2\"\n",
        "declare -x ROS_ROOT=\"/opt/ros/melodic/share/ros\"\n",
        "declare -x ROS_VERSION=\"1\"\n"
      ],
      "metadata": {
        "id": "blRwH1rOjl1M"
      },
      "execution_count": null,
      "outputs": []
    },
    {
      "cell_type": "markdown",
      "source": [
        "As variáveis mais importantes são `ROS_MASTER_URI` e `ROS_PACKAGE_PATH`.\n",
        "\n",
        "*   `ROS_MASTER_URI`: Contém a url onde o ROS Core está sendo executado. Normalmente, seu próprio computador (*localhost*).\n",
        "*   `ROS_PACKAGE_PATH`: Contém os caminhos (*path*) em seu disco rígido onde estão armazenados os pacotes ROS."
      ],
      "metadata": {
        "id": "PQb-PX2BjnfA"
      }
    },
    {
      "cell_type": "markdown",
      "source": [
        "# Parte 7: Entendendo Tópicos ROS: Publishers"
      ],
      "metadata": {
        "id": "DVCWFjD9l3ug"
      }
    },
    {
      "cell_type": "markdown",
      "source": [
        "Para este e os exemplos seguintes, você continuará utilizando o pacote que criou anteriormente. Dentro deste pacote você colocará todos os exemplos que faremos durante este tutorial."
      ],
      "metadata": {
        "id": "Ar_x0DKY8TC2"
      }
    },
    {
      "cell_type": "markdown",
      "source": [
        "Anteriormente, criamos o pacote `my_examples_pkg`, executando os seguintes comandos:"
      ],
      "metadata": {
        "id": "QIPQus_x8l3N"
      }
    },
    {
      "cell_type": "code",
      "source": [
        "# No terminal 1\n",
        "cd ~/catkin_ws/src\n",
        "catkin_create_pkg my_examples_pkg rospy std_msgs"
      ],
      "metadata": {
        "id": "9K4a69-v8sW-"
      },
      "execution_count": null,
      "outputs": []
    },
    {
      "cell_type": "markdown",
      "source": [
        "Agora, crie uma nova pasta dentro do seu pacote ROS chamada `scripts`:"
      ],
      "metadata": {
        "id": "g_1D_VrO8wta"
      }
    },
    {
      "cell_type": "code",
      "source": [
        "# No terminal 1\n",
        "cd ~/catkin_ws/src/my_examples_pkg\n",
        "mkdir scripts"
      ],
      "metadata": {
        "id": "94orIz9L825N"
      },
      "execution_count": null,
      "outputs": []
    },
    {
      "cell_type": "markdown",
      "source": [
        "Dentro da pasta **scripts**, crie um script Python chamado `simple_topic_publisher.py`. Lembre-se de que você também pode criá-lo fora do terminal."
      ],
      "metadata": {
        "id": "zbazNTO3895G"
      }
    },
    {
      "cell_type": "code",
      "source": [
        "# No terminal 1\n",
        "cd ~/catkin_ws/src/my_examples_pkg/scripts\n",
        "touch simple_topic_publisher.py\n",
        "chmod +x simple_topic_publisher.py"
      ],
      "metadata": {
        "id": "rKnraiad9Ta6"
      },
      "execution_count": null,
      "outputs": []
    },
    {
      "cell_type": "markdown",
      "source": [
        "Cole o seguinte código no script `simple_topics_publisher.py`:"
      ],
      "metadata": {
        "id": "eEl3dVCF9bNu"
      }
    },
    {
      "cell_type": "code",
      "source": [
        "#! /usr/bin/env python3\n",
        "\n",
        "import rospy                               # Importa a biblioteca Python para ROS\n",
        "from std_msgs.msg import Int32             # Importa mensagens do tipo Int32 do pacote the std_msgs\n",
        "\n",
        "rospy.init_node('topic_publisher')         # Inicializa um nó chamado 'topic_publisher'\n",
        "\n",
        "#  Cria um objeto de publicacao (Publisher), que vai publicar no tópico /counter mensagens do tipo Int32\n",
        "pub = rospy.Publisher('/counter', Int32, queue_size=1)    \n",
        "                                                                                      \n",
        "\n",
        "rate = rospy.Rate(2)                       # Define taxa de publicaco para 2 Hz\n",
        "count = Int32()                            # Cria um objeto com estrtura Int32\n",
        "count.data = 0                             # Inicializa a variavel 'count'\n",
        "\n",
        "while not rospy.is_shutdown():             # Cria um loop a ser executado até que se pressione Ctrl + C\n",
        "  pub.publish(count)                       # Publica uma mensagem com o valor da variavel count\n",
        "  count.data += 1                          # Incrementa a variavel count\n",
        "  rate.sleep()                             # Garante a publicacao de informacao em uma taxa de 2 Hz"
      ],
      "metadata": {
        "id": "vtHWpaMX9d4s"
      },
      "execution_count": null,
      "outputs": []
    },
    {
      "cell_type": "markdown",
      "source": [
        "E não se esqueça de compilar e atualizar seu workspace!"
      ],
      "metadata": {
        "id": "if2OdGLh9oMT"
      }
    },
    {
      "cell_type": "code",
      "source": [
        "# Terminal 1\n",
        "cd ~/catkin_ws\n",
        "catkin_make\n",
        "source devel/setup.bash\n",
        "roscore"
      ],
      "metadata": {
        "id": "k6ggaLOT9uun"
      },
      "execution_count": null,
      "outputs": []
    },
    {
      "cell_type": "markdown",
      "source": [
        "Agora você pode executar o script utilizando o comando `rosrun`"
      ],
      "metadata": {
        "id": "PY2r1Ziw94fU"
      }
    },
    {
      "cell_type": "code",
      "source": [
        "# Terminal 2\n",
        "rosrun my_examples_pkg simple_topic_publisher.py"
      ],
      "metadata": {
        "id": "pTgc9L-p94Dz"
      },
      "execution_count": null,
      "outputs": []
    },
    {
      "cell_type": "markdown",
      "source": [
        "Nada aconteceu? Não é bem assim... Você acabou de criar um tópico chamado `/counter` e publicou por meio dele um número inteiro que aumenta indefinidamente. Vamos verificar algumas coisas.\n",
        "\n",
        "* Os nós usam tópicos para publicar informações para outros nós para que possam se comunicar.\n",
        "\n",
        "* Você pode saber, a qualquer momento, a quantidade de tópicos no sistema executando **rostopic list**. Você também pode verificar um tópico específico."
      ],
      "metadata": {
        "id": "FL7BAajp-Jaq"
      }
    },
    {
      "cell_type": "code",
      "source": [
        "# Terminal 3\n",
        "rostopic list | grep  '/counter'"
      ],
      "metadata": {
        "id": "AVxEfa4c-lm-"
      },
      "execution_count": null,
      "outputs": []
    },
    {
      "cell_type": "markdown",
      "source": [
        "Você acabou de listar todos os tópicos em execução no momento e filtrou com o comando grep aqueles que contêm a palavra /counter. Se aparecer /counter, o tópico está sendo executado como deveria.\n",
        "\n",
        "Você pode solicitar informações sobre um tópico fazendo `rostopic info <name_of_topic>`.\n",
        "\n",
        "No terminal 2, digite `rostopic info /counter`."
      ],
      "metadata": {
        "id": "kL8sB4uI-ypl"
      }
    },
    {
      "cell_type": "markdown",
      "source": [
        "É possivel verificar o tipo de informação publicada `(std_msgs/Int32)`, o nó que está publicando essas informações (`/topic_publisher`) e se há um nó inscrito (um nó que esteja escutando essas informações) Neste caso, não há outros nós inscritos.\n",
        "\n",
        "No terminal 2, digite r`ostopic echo /counter` e verifique o output do tópico em tempo real.\n",
        "\n",
        "Este comando começará a imprimir todas as informações que estão sendo publicadas no tópico. Caso prefira ler apenas a última mensagem publicada em um tópico com o próximo comando:"
      ],
      "metadata": {
        "id": "reMoquet_HHR"
      }
    },
    {
      "cell_type": "code",
      "source": [
        "rostopic echo <topic_name> -n1"
      ],
      "metadata": {
        "id": "nHodCN83_rHV"
      },
      "execution_count": null,
      "outputs": []
    },
    {
      "cell_type": "markdown",
      "source": [
        "## Mensagens"
      ],
      "metadata": {
        "id": "UylC2bss_8pw"
      }
    },
    {
      "cell_type": "markdown",
      "source": [
        "Como você deve ter notado, os tópicos lidam com informações por meio de mensagens. Existem muitos tipos diferentes de mensagens.\n",
        "\n",
        "No caso do código que você executou antes, o tipo de mensagem era um `std_msgs/Int32`, mas o ROS fornece muitas mensagens diferentes. Você pode até criar suas próprias mensagens, mas é recomendável usar mensagens padrão do ROS quando possível.\n",
        "\n",
        "As mensagens são definidas em arquivos `.msg`, que estão localizados dentro do diretório `msg` de um pacote.\n",
        "\n",
        "Para obter informações sobre uma mensagem, você usa o próximo comando:"
      ],
      "metadata": {
        "id": "XHRuN5-BAEEM"
      }
    },
    {
      "cell_type": "code",
      "source": [
        "# terminal 4\n",
        "rosmsg show <message>"
      ],
      "metadata": {
        "id": "pPl1Qp3QAOqa"
      },
      "execution_count": null,
      "outputs": []
    },
    {
      "cell_type": "markdown",
      "source": [
        "Por exemplo, vamos tentar obter informações sobre a mensagem std_msgs/Int32. Digite o seguinte comando e verifique o resultado."
      ],
      "metadata": {
        "id": "ZMNUWQfrAdrp"
      }
    },
    {
      "cell_type": "code",
      "source": [
        "rosmsg show std_msgs/Int32"
      ],
      "metadata": {
        "id": "5_Jb6EEvAl2a"
      },
      "execution_count": null,
      "outputs": []
    },
    {
      "cell_type": "markdown",
      "source": [
        "Nesse caso, a mensagem **Int32** possui apenas uma variável denominada **data** do tipo `int32`. Esta mensagem **Int32** vem do pacote `std_msgs`, e você pode encontrá-la em seu diretório `msg`."
      ],
      "metadata": {
        "id": "1XqlBtwOAod7"
      }
    },
    {
      "cell_type": "markdown",
      "source": [
        "# Parte 8: Entendendo Tópicos ROS: Criando um Publisher"
      ],
      "metadata": {
        "id": "JBtzOttPBA-O"
      }
    },
    {
      "cell_type": "markdown",
      "source": [
        "Seguindo os passos anteriores:\n",
        "\n",
        "\n",
        "*   Em `~/catkin_ws/src/my_examples_pkg/scripts`, crie os arquivos e dê permissão para executá-los (`chmod +x arquivo1 arquivo2`)\n",
        "  * `move_robot.launch`\n",
        "  * `move_robot.py`\n",
        " \n",
        "\n"
      ],
      "metadata": {
        "id": "l-dO-BlMNG2s"
      }
    },
    {
      "cell_type": "code",
      "source": [
        "touch move_robot.py move_robot.launch  \n",
        "chmod +x move_robot.launch move_robot.py"
      ],
      "metadata": {
        "id": "a6pNV8Xrt2a1"
      },
      "execution_count": null,
      "outputs": []
    },
    {
      "cell_type": "markdown",
      "source": [
        "No arquivo `move_robot.launch`, copie e cole o codigo:"
      ],
      "metadata": {
        "id": "eW7LTcR6PEZR"
      }
    },
    {
      "cell_type": "code",
      "source": [
        "<launch>\n",
        "    <node pkg=\"my_examples_pkg\" type=\"move_robot.py\" name=\"move_robot_node\" output=\"screen\" />\n",
        "</launch>"
      ],
      "metadata": {
        "id": "kWBayOlZNGdk"
      },
      "execution_count": null,
      "outputs": []
    },
    {
      "cell_type": "markdown",
      "source": [
        "No arquivo `move_robot.py`, copie e cole o codigo:"
      ],
      "metadata": {
        "id": "VnLyML8dPPr9"
      }
    },
    {
      "cell_type": "code",
      "source": [
        "#! /usr/bin/env python3\n",
        "\n",
        "import rospy\n",
        "# importa mensagens do tipo Twist da biblioteca geometry_msgs\n",
        "# Mensagens Twist expressam velocidades angular e linear\n",
        "from geometry_msgs.msg import Twist\n",
        "\n",
        "rospy.init_node('move_robot_node') # inicia um nó chamado move_robot-node\n",
        "#  Cria um objeto de publicacao (Publisher), que vai publicar no tópico /cmd_vel mensagens do tipo Twist \n",
        "pub = rospy.Publisher('/cmd_vel', Twist, queue_size=1)\n",
        "rate = rospy.Rate(2)\n",
        "\n",
        "move = Twist() # Cria um objeto Twist\n",
        "move.linear.x = 0.5 # Move o robo com velocidade linear ao longo do eixo x \n",
        "move.angular.z = 0.5 # Move o robo com velocidade angular ao longo do eixo z\n",
        "\n",
        "while not rospy.is_shutdown(): \n",
        "  pub.publish(move)\n",
        "  rate.sleep()"
      ],
      "metadata": {
        "id": "VYsIgzhkPaSa"
      },
      "execution_count": null,
      "outputs": []
    },
    {
      "cell_type": "markdown",
      "source": [
        "Para rodar sua simulação, inicialize um Empty World no Gazebo \n"
      ],
      "metadata": {
        "id": "BpceS_T_Q_2O"
      }
    },
    {
      "cell_type": "code",
      "source": [
        "# No terminal 1\n",
        "cd ~/catkin_ws/\n",
        "source devel/setup.bash\n",
        "roslaunch gazebo_ros empty_world.launch"
      ],
      "metadata": {
        "id": "M_RYrI-OtV4u"
      },
      "execution_count": null,
      "outputs": []
    },
    {
      "cell_type": "markdown",
      "source": [
        "Carregue o robô\n",
        "\n"
      ],
      "metadata": {
        "id": "JgW-pEMhtb7H"
      }
    },
    {
      "cell_type": "code",
      "source": [
        "# No terminal 2\n",
        "cd ~/catkin_ws/\n",
        "source devel/setup.bash\n",
        "roslaunch m2wr_description spawn.launch"
      ],
      "metadata": {
        "id": "6leJD8ZdttYf"
      },
      "execution_count": null,
      "outputs": []
    },
    {
      "cell_type": "markdown",
      "source": [
        "Execute o comando `rosrun my_examples_pkg move_robot.py`"
      ],
      "metadata": {
        "id": "vtatz6nstnQ8"
      }
    },
    {
      "cell_type": "markdown",
      "source": [
        "Observações:\n",
        "\n",
        " \n",
        "\n",
        "*   O tópico `/cmd_vel` é o tópico usado para mover o robô.\n",
        "*   Execute um `rostopic info /cmd_vel` para obter informações sobre este tópico e identificar a mensagem que ele usa.\n",
        "* Para preencher a mensagem `Twist`, é necessário criar uma instância da mensagem. Em Python, isso é feito assim: `variable_name = Twist()`\n",
        "\n",
        "* Para conhecer a estrutura das mensagens do `Twist`, é necessário utilizar o comando `rosmsg show`, com o tipo de mensagem utilizado pelo tópico `/cmd_vel`.\n",
        "\n",
        "* Neste exemplo, o robô utiliza acionamento diferencial para se mover. Ou seja, o robô só pode se mover linearmente no eixo $x$, ou rotacionalmente no eixo $z$. Isso significa que os únicos valores que você precisa para preencher a mensagem `Twist` são a velocida linear no eixo $x$ linear e a velocidade angular no eixo $z$.\n",
        "\n",
        "* As magnitudes da mensagem `Twist` estão em m/s, por isso é recomendável usar valores entre 0 e 1. Por exemplo, 0.5 m/s."
      ],
      "metadata": {
        "id": "iWfSVxKqPjyo"
      }
    },
    {
      "cell_type": "markdown",
      "source": [
        "# Parte 9: Entendendo Tópicos ROS: Subscribers & Mensagens"
      ],
      "metadata": {
        "id": "muqcGuq0Hu0p"
      }
    },
    {
      "cell_type": "markdown",
      "source": [
        "Vimos que que um tópico é um canal onde os nós podem escrever ou ler informações. Podemos escrever em um tópico usando um publisher e ler  informações de um tópico usando um subscriber (assinante)."
      ],
      "metadata": {
        "id": "y3b1o1cpH-Cp"
      }
    },
    {
      "cell_type": "markdown",
      "source": [
        "Em `~/catkin_ws/src/my_examples_pkg/scripts`, crie um script Python chamado `simple_topic_subscriber.py` e dê permissão para executá-los \n"
      ],
      "metadata": {
        "id": "iYq1-OgcInFA"
      }
    },
    {
      "cell_type": "code",
      "source": [
        "cd ~/catkin_ws/src/my_examples_pkg/scripts\n",
        "touch simple_topic_subscriber.py\n",
        "chmod +x simple_topic_subscriber.py"
      ],
      "metadata": {
        "id": "KZZIAB6CIdC3"
      },
      "execution_count": null,
      "outputs": []
    },
    {
      "cell_type": "markdown",
      "source": [
        "No arquivo simple_topic_subscriber.py, cole o seguinte codigo"
      ],
      "metadata": {
        "id": "aogrqQ2dJbJ1"
      }
    },
    {
      "cell_type": "code",
      "source": [
        "#! /usr/bin/env python3\n",
        "\n",
        "import rospy                                          \n",
        "from std_msgs.msg import Int32 \n",
        "\n",
        "# Define uma função chamada 'callback' que recebe um parâmetroo chamado 'msg'\n",
        "def callback(msg):                                    \n",
        "    print (msg.data)                                  # Imprime o valor 'data' da variável 'msg\n",
        "\n",
        "rospy.init_node('topic_subscriber')                   # Inicia um nó chamado 'topic_subscriber'\n",
        "\n",
        "sub = rospy.Subscriber('/counter', Int32, callback)   # Cria um objeto Subscriber que se inscreve no tópico /counter\n",
        "                                                      # e que chama a função 'callback' toda vez que lê algo do tópico\n",
        "                                                      \n",
        "rospy.spin()                                          # entra em um loop infinito até receber ctrl-c.        "
      ],
      "metadata": {
        "id": "8t2N9hhSJg98"
      },
      "execution_count": null,
      "outputs": []
    },
    {
      "cell_type": "markdown",
      "source": [
        "Novamente, compile e atualize seu worskapce e execute seu script utilizando o comando `rosrun`."
      ],
      "metadata": {
        "id": "XPKy7iMzJkKW"
      }
    },
    {
      "cell_type": "code",
      "source": [
        "# Terminal 1\n",
        "cd ~/catkin_ws\n",
        "catkin_make\n",
        "source devel/setup.bash\n",
        "roscore\n",
        "# Terminal 2\n",
        "source devel/setup.bash\n",
        "rosrun my_examples_pkg simple_topic_subscriber.py"
      ],
      "metadata": {
        "id": "k95wsA44JuJr"
      },
      "execution_count": null,
      "outputs": []
    },
    {
      "cell_type": "markdown",
      "source": [
        "Para entender o que esta acontecendo, digite o seguinte comando em outro terminal:"
      ],
      "metadata": {
        "id": "-R3DAKfrJ1vB"
      }
    },
    {
      "cell_type": "code",
      "source": [
        "# Terminal 3\n",
        "cd catkin_ws\n",
        "source devel/setup.bash\n",
        "rostopic echo /counter"
      ],
      "metadata": {
        "id": "UHSx_gbAK7Bo"
      },
      "execution_count": null,
      "outputs": []
    },
    {
      "cell_type": "code",
      "source": [
        "# Saida do Terminal 3\n",
        "WARNING: no messages received and simulated time is active.\n",
        "Is /clock being published?"
      ],
      "metadata": {
        "id": "WN1UVCLYMZnf"
      },
      "execution_count": null,
      "outputs": []
    },
    {
      "cell_type": "markdown",
      "source": [
        "Provavelmente você vai ver uma mensagem de aviso. O que ela significa?\n",
        "Isso significa que ninguém está publicando no tópico `/counter`, então não há informações para serem lidas. Vamos então publicar algo no tópico e ver o que acontece. Para isso, vamos introduzir um novo comando:"
      ],
      "metadata": {
        "id": "TX8ckNVJLSQt"
      }
    },
    {
      "cell_type": "code",
      "source": [
        "rostopic pub <topic_name> <message_type> <value>"
      ],
      "metadata": {
        "id": "SCzpzbQ5LihA"
      },
      "execution_count": null,
      "outputs": []
    },
    {
      "cell_type": "markdown",
      "source": [
        "O comando acima publicará a mensagem que você especificar com o valor que você especificar, no tópico que você especificar. Abra um novo terminal (terminal 3) e deixe o terminal 2 aberto (aquele terminal que estiver rodando rostopic echo)"
      ],
      "metadata": {
        "id": "RrZmK9Z0Lm_W"
      }
    },
    {
      "cell_type": "code",
      "source": [
        "# Terminal 4\n",
        "rostopic pub /counter std_msgs/Int32 5"
      ],
      "metadata": {
        "id": "k4wFy6HnLkSB"
      },
      "execution_count": null,
      "outputs": []
    },
    {
      "cell_type": "markdown",
      "source": [
        "Agora verifique a saída do terminal onde você esta rodando o rostopic echo novamente. Você deve ver algo assim:"
      ],
      "metadata": {
        "id": "osuzAQThMJtD"
      }
    },
    {
      "cell_type": "code",
      "source": [
        "WARNING: no messages received and simulated time is active.\n",
        "Is /clock being published?\n",
        "data:\n",
        "5\n",
        "---"
      ],
      "metadata": {
        "id": "p45Lp8HPMSgF"
      },
      "execution_count": null,
      "outputs": []
    },
    {
      "cell_type": "markdown",
      "source": [
        "Isso significa que o valor que você publicou foi recebido pelo seu programa subscriber (que imprime o valor na tela).\n",
        "\n",
        "Em resumo:\n",
        "\n",
        "> Criamos um nó de assinante que escuta o tópico `/counter`, e cada vez que lê algo, ele chama uma função que faz um print da `msg`. Inicialmente, nada aconteceu, pois ninguém estava publicando no tópico `/counter`, mas quando executamos o comando `rostopic pub`, publicamos uma mensagem no tópico `/counter`, a função imprimiu o número repassado e também vimos a mensagem na saída do `rostopic echo.`\n",
        "\n"
      ],
      "metadata": {
        "id": "R7TqM6ApMoLg"
      }
    },
    {
      "cell_type": "markdown",
      "source": [
        "# Parte 10: Entendendo Tópicos ROS: Criando um Subscriber"
      ],
      "metadata": {
        "id": "92tjgZPPNtoV"
      }
    },
    {
      "cell_type": "markdown",
      "source": [
        "Seguindo os passos anteriores:\n",
        " \n",
        "*   Em `~/catkin_ws/src/my_examples_pkg/scripts`, crie os arquivos e de permissao para executa-los (`chmod +x arquivo1 arquivo2`)\n",
        "  * `odom_subscriber.launch`\n",
        "  * `odom_subscriber.py`\n",
        "  * `chmod +x odom_subscriber.launch odom_subscriber.py`\n",
        "\n"
      ],
      "metadata": {
        "id": "6NdztvfUN6Rh"
      }
    },
    {
      "cell_type": "markdown",
      "source": [
        "No arquivo `odom_subscriber.launch`, copie e cole o codigo:"
      ],
      "metadata": {
        "id": "ft7kHFqYOaFZ"
      }
    },
    {
      "cell_type": "code",
      "source": [
        "<launch>\n",
        "    <node pkg=\"my_examples_pkg\" type=\"odom_subscriber.py\" name=\"odom_sub_node\" output=\"screen\" />\n",
        "</launch>"
      ],
      "metadata": {
        "id": "u_WQ9T0cOaFZ"
      },
      "execution_count": null,
      "outputs": []
    },
    {
      "cell_type": "markdown",
      "source": [
        "Para abrir um arquivo via terminal, digite:\n",
        "`vim <file_name>`\n",
        "\n",
        "Para mudar para modo de insercao, pressione a tecla `i`.\n",
        "\n",
        "Para salvar as alteracoes, digite:\n",
        "`:x`\n",
        "\n",
        "Para fechar o arquivo SEM salvar as alteracoes, digite:\n",
        "`:q`\n",
        "\n",
        "Para mudar para modo comando, pressione a tecla `ESC`."
      ],
      "metadata": {
        "id": "LSaVSXMSd_Ak"
      }
    },
    {
      "cell_type": "markdown",
      "source": [
        "No arquivo `move_robot.py`, copie e cole o codigo:"
      ],
      "metadata": {
        "id": "TUojszQ4OaFZ"
      }
    },
    {
      "cell_type": "code",
      "source": [
        "#! /usr/bin/env python3\n",
        "\n",
        "import rospy\n",
        "# representa uma estimativa da posição e e velocidade estimate no espaço\n",
        "from nav_msgs.msg import Odometry\n",
        "\n",
        "def callback(msg): \n",
        "  print(msg)                    # imprime a mensagem completa de Odometry (Odometria)\n",
        "# print(msg.header)             # imprime o cabecalho da mensagem Odometry\n",
        "# print(msg.pose)               # imprime a pose da mensagem Odometry\n",
        "# print (msg.twist)             # imprime a velocidade da mensagem ODometry\n",
        "    \n",
        "rospy.init_node('odom_sub_node')                        # inicializa um nó chamado \"odom_sub_node\"\n",
        "sub = rospy.Subscriber('/odom', Odometry, callback)     # cria um objeto subscriber que se inscreveve no tópico ODom,\n",
        "                                                        # e que chama a função 'callback' toda vez que o objeto subscriber ler \n",
        "                                                        # algo do tópico\n",
        "rospy.spin()"
      ],
      "metadata": {
        "id": "O0j3gqs_OaFZ"
      },
      "execution_count": null,
      "outputs": []
    },
    {
      "cell_type": "markdown",
      "source": [
        "Para rodar sua simulação, \n",
        "\n",
        "* No Terminal 1, inicialize um Empty World no Gazebo (passo 2.1)\n",
        "* No Terminal 2, carregue o robo myBot (passo 2.2)\n",
        "* No Terminal 3, compile e atualize seu workspace utilizando os comandos `catkin_make` e `source`\n",
        "* Execute o comando `rosrun my_examples_pkg odom_subscriber.py`"
      ],
      "metadata": {
        "id": "ezqUWURMOzmG"
      }
    },
    {
      "cell_type": "code",
      "source": [
        "# Terminal 1\n",
        "cd ~/catkin_ws/\n",
        "source devel/setup.bash\n",
        "roslaunch gazebo_ros empty_world.launch"
      ],
      "metadata": {
        "id": "NJ8Pi7oVgHo6"
      },
      "execution_count": null,
      "outputs": []
    },
    {
      "cell_type": "code",
      "source": [
        "# Terminal 2\n",
        "cd ~/catkin_ws/\n",
        "source devel/setup.bash\n",
        "roslaunch m2wr_description spawn.launch"
      ],
      "metadata": {
        "id": "J9x1p00cgQdV"
      },
      "execution_count": null,
      "outputs": []
    },
    {
      "cell_type": "code",
      "source": [
        "# Terminal 3\n",
        "cd ~/catkin_ws/\n",
        "source devel/setup.bash\n",
        "rosrun my_examples_pkg odom_subscriber.py"
      ],
      "metadata": {
        "id": "e1fCmPrUgW4V"
      },
      "execution_count": null,
      "outputs": []
    },
    {
      "cell_type": "markdown",
      "source": [
        "# Parte 11: Entendendo Serviços em ROS\n"
      ],
      "metadata": {
        "id": "Czql5EVCQAuS"
      }
    },
    {
      "cell_type": "markdown",
      "source": [
        "Muitos pacotes ROS usam apenas tópicos e fazem o trabalho perfeitamente.\n",
        "\n",
        "Então por que você precisa aprender sobre serviços?"
      ],
      "metadata": {
        "id": "UejfM8QXVtCp"
      }
    },
    {
      "cell_type": "markdown",
      "source": [
        "Para entender o que são serviços e quando usá-los, é preciso compará-los com tópicos e ações.\n",
        "\n",
        "* Imagine que você tenha seu próprio robô. Esse robo possui um sensor a laser, um sistema de reconhecimento facial e um sistema de navegação. O LiDAR usará um tópico para publicar todas as suas leituras. Usamos um tópico porque precisamos ter essa informação disponível o tempo todo para outros sistemas ROS, como o sistema de navegação.\n",
        "\n",
        "* O sistema de reconhecimento facial fornecerá um serviço. Seu programa ROS irá ACIONAR (call) esse serviço e AGUARDAR até que o sistema de reconhecimento facial dê o nome da pessoa que o robo tem na frente dele.\n",
        "\n",
        "* O sistema de navegação fornecerá uma Ação. Seu programa ROS vai acionar a ação para mover o robô para algum lugar e, ENQUANTO estiver executando essa tarefa, seu programa executará outras tarefas. E essa ação lhe dará um Feedback ao longo do processo de deslocamento para as coordenadas (por exemplo: distância que falta para as coordenadas desejadas).\n",
        "\n",
        "Então... Qual é a diferença entre um Serviço e uma Ação?\n",
        "\n",
        "* Os serviços são síncronos. Ou seja, quando seu programa ROS chama um serviço, o programa não pode continuar até receber um resultado do serviço.\n",
        "\n",
        "* As ações são assíncronas. Ou seja, Quando seu programa ROS chama uma ação, seu programa pode executar outras tarefas enquanto a ação está sendo executada em outro thread.\n",
        "\n",
        "* Conclusão: Usamos serviços para uma tarefa considerada crítica para o funcionamento do nosso sistema. Ou seja, aguardamos o resultado do serviço para então continuar outras tarefas.\n",
        "\n",
        "* É importante notar também que os Serviços possuem duas etapas: o servidor de Serviços e o Cliente de Serviços.  Vamos entender melhor como eles funcionam com o exemplo abaixo."
      ],
      "metadata": {
        "id": "WYR9uErOV1Y_"
      }
    },
    {
      "cell_type": "markdown",
      "source": [
        "## Criando um serviço ROS"
      ],
      "metadata": {
        "id": "bsQAuq4VkNFa"
      }
    },
    {
      "cell_type": "markdown",
      "source": [
        "Agora que você já entendeu o que são serviços em ROS, vamos criar o seu proprio serviço! Para isso, crie o arquivo a seguir no pacote `my_examples_pkg` (criado anteriormente!)."
      ],
      "metadata": {
        "id": "_RH3Cbv-JppX"
      }
    },
    {
      "cell_type": "code",
      "source": [
        "# No terminal 1\n",
        "cd catkin_ws\n",
        "source devel/setup.bash\n",
        "roscd my_examples_pkg/scripts\n",
        "touch simple_service_server.py\n",
        "chmod +x simple_service_server.py"
      ],
      "metadata": {
        "id": "O9QSV1IXKIEu"
      },
      "execution_count": null,
      "outputs": []
    },
    {
      "cell_type": "markdown",
      "source": [
        "Para abrir o arquivo `simple_service_server.py` pelo terminal, \n",
        "* execute o comando `vim simple_service*_server.py`, \n",
        "* pressione a tecla `i` para colocar o editor em modo de edição, copie e cole o script a seguir. \n",
        "* Para voltar ao modo de exibição, pressione a tecla `ESC` e salve as modificações realizadas executando o comando `:x`. \n",
        "\n",
        "* Lembre-se que você também pode fazer todo esse procedimento normalmente sem usar o terminal. "
      ],
      "metadata": {
        "id": "foIsCvJ1KYo1"
      }
    },
    {
      "cell_type": "code",
      "source": [
        "#! /usr/bin/env python3\n",
        "\n",
        "import rospy\n",
        "\n",
        "# importa as classes python de mensagem de serviço geradas de Empty.srv\n",
        "# No caso da classe Empty, nenhum dado é de fato trocado entre o serviço e o cliente\n",
        "from std_srvs.srv import Empty, EmptyResponse \n",
        "\n",
        "\n",
        "def my_callback(request):\n",
        "    print(\"My_callback has been called\")\n",
        "    return EmptyResponse()  #  retorna a classe do servico Response, neste caso EmptyResponse\n",
        "\n",
        "rospy.init_node('service_server') \n",
        "# cria um Servico chamado my_service com seu respectivo callback\n",
        "my_service = rospy.Service('/my_service', Empty , my_callback) \n",
        "rospy.spin()  # mantem o servico aberto."
      ],
      "metadata": {
        "id": "BkV6z61WKyru"
      },
      "execution_count": null,
      "outputs": []
    },
    {
      "cell_type": "markdown",
      "source": [
        "No terminal 1, execute:"
      ],
      "metadata": {
        "id": "XD7o_0q6Lmk_"
      }
    },
    {
      "cell_type": "code",
      "source": [
        "# Terminal 1\n",
        "roscore"
      ],
      "metadata": {
        "id": "LTExrNEYXRd_"
      },
      "execution_count": null,
      "outputs": []
    },
    {
      "cell_type": "code",
      "source": [
        "# Terminal 2\n",
        "cd catkin_ws\n",
        "source devel/setup.bash\n",
        "rosrun my_examples_pkg simple_service_server.py"
      ],
      "metadata": {
        "id": "4rzCp8uLLhIQ"
      },
      "execution_count": null,
      "outputs": []
    },
    {
      "cell_type": "markdown",
      "source": [
        "Nada aconteceu, certo? Neste momento, você apenas criou e inicializou o servidor de serviço. Ou seja, você tornou o serviço disponível para que pudessemos chama-lo posteriormente. Para visualizar a lista completa de serviços, execute o seguinte comando:"
      ],
      "metadata": {
        "id": "Zx8lBcPtLpTx"
      }
    },
    {
      "cell_type": "code",
      "source": [
        "# No terminal 3\n",
        "cd catkin_ws\n",
        "rosservice list"
      ],
      "metadata": {
        "id": "cYQjeT07MdNZ"
      },
      "execution_count": null,
      "outputs": []
    },
    {
      "cell_type": "markdown",
      "source": [
        "Agora, você tem que realmente chamar o serviço. Você pode chamar um serviço atraves do terminal. Isso é muito útil para testar e ter uma ideia básica de como o serviço funciona."
      ],
      "metadata": {
        "id": "FRyRPUK4TKU0"
      }
    },
    {
      "cell_type": "code",
      "source": [
        "rosservice call /the_service_name TAB-TAB"
      ],
      "metadata": {
        "id": "3tcxHerbUmr1"
      },
      "execution_count": null,
      "outputs": []
    },
    {
      "cell_type": "markdown",
      "source": [
        "TAB-TAB significa que você deve pressionar rapidamente a tecla TAB duas vezes. Isso completará automaticamente a estrutura da mensagem de serviço a ser enviada para você. Então, você só precisa preencher o valor."
      ],
      "metadata": {
        "id": "UZglhb9yToHu"
      }
    },
    {
      "cell_type": "markdown",
      "source": [
        "Funcionou? Você deve ver a mensagem '`My callback has been called`' no terminal. Essa é a saída do script Python que criamos anteriormente."
      ],
      "metadata": {
        "id": "U5_k6SBEVDsL"
      }
    },
    {
      "cell_type": "markdown",
      "source": [
        "## Criando um serviço para seu robô - parte 1"
      ],
      "metadata": {
        "id": "30Cb3vkrYvyq"
      }
    },
    {
      "cell_type": "markdown",
      "source": [
        "Agora iremos criar um serviço que, quando chamado, fará com que nosso robô se mova com uma trajetória circular."
      ],
      "metadata": {
        "id": "SOMUxxPuYhSD"
      }
    },
    {
      "cell_type": "markdown",
      "source": [
        "Podemos criar um novo package para os serviços a seguir ou continuar utilizando o pacote `my_examples_pkg`.\n",
        "\n",
        "* Neste caso, iremos continuar com o pacote `my_examples_pkg` para facilitar o entendimento. Mas lembre-se: você pode até mesmo separar o servidor de serviço em um pacote e o cliente de serviço em outro pacote."
      ],
      "metadata": {
        "id": "y1NF4F10Z2y0"
      }
    },
    {
      "cell_type": "markdown",
      "source": [
        "* Crie um servidor de serviço que aceite uma mensagem do tipo Empty Service e ative a trajetória circular. Este serviço se chamará `/move_bot_in_circle`.\n",
        "\n",
        "* Para tal, iremos criar um script Python chamado `move_bot_in_circle_service_server.py` com o código abaixo"
      ],
      "metadata": {
        "id": "_G6lBc2Xaoz0"
      }
    },
    {
      "cell_type": "code",
      "source": [
        "#! /usr/bin/env python3\n",
        "\n",
        "import rospy\n",
        "from std_srvs.srv import Empty, EmptyResponse # importa as classes python de mensagem de serviço geradas de Empty.srv.\n",
        "from geometry_msgs.msg import Twist\n",
        "\n",
        "def my_callback(request):\n",
        "    rospy.loginfo(\"The Service move_bot_in_circle has been called\")\n",
        "    move_circle.linear.x = 0.2\n",
        "    move_circle.angular.z = 0.2\n",
        "    my_pub.publish(move_circle)\n",
        "    rospy.loginfo(\"Finished service move_bot_in_circle\")\n",
        "    return EmptyResponse() # a classe do servico Response, neste caso EmptyResponse\n",
        "\n",
        "rospy.init_node('service_move_bot_in_circle_server') \n",
        "my_service = rospy.Service('/move_bot_in_circle', Empty , my_callback) # cria um Servico chamado move_bot_in_circle com seu respectivo callback\n",
        "my_pub = rospy.Publisher('/cmd_vel', Twist, queue_size=1)\n",
        "move_circle = Twist()\n",
        "rospy.loginfo(\"Service /move_bot_in_circle Ready\")\n",
        "rospy.spin() # mantem o servico aberto."
      ],
      "metadata": {
        "id": "o5AAQcAdbjAt"
      },
      "execution_count": null,
      "outputs": []
    },
    {
      "cell_type": "markdown",
      "source": [
        "Para testarmos o script, vamos primeiro carregar o robô: "
      ],
      "metadata": {
        "id": "IvLEmP7kbqOi"
      }
    },
    {
      "cell_type": "code",
      "source": [
        "# No terminal 1\n",
        "cd ~/catkin_ws/\n",
        "catkin_make\n",
        "# Abrindo um empty world\n",
        "# Na pasta ~/catkin_ws, execute:\n",
        "source devel/setup.bash\n",
        "roslaunch gazebo_ros empty_world.launch"
      ],
      "metadata": {
        "id": "scHV1-3hSLIr"
      },
      "execution_count": null,
      "outputs": []
    },
    {
      "cell_type": "code",
      "source": [
        "# No terminal 2, mude seu diretorio para o workspace catkin\n",
        "cd ~/catkin_ws/\n",
        "source devel/setup.bash\n",
        "# Na pasta ~/catkin_ws, execute:\n",
        "roslaunch m2wr_description spawn.launch"
      ],
      "metadata": {
        "id": "x5cIO625Sn-T"
      },
      "execution_count": null,
      "outputs": []
    },
    {
      "cell_type": "code",
      "source": [
        "# Terminal 3\n",
        "cd catkin_ws\n",
        "source devel/setup.bash\n",
        "roscd my_examples_pkg/scripts\n",
        "# Garantimos que o script python seja executável\n",
        "chmod +x *.py\n",
        "rosrun my_examples_pkg move_bot_in_circle_service_server.py"
      ],
      "metadata": {
        "id": "7xK9PZLSbp8m"
      },
      "execution_count": null,
      "outputs": []
    },
    {
      "cell_type": "markdown",
      "source": [
        "A seguir chame o serviço `/move_bot_in_circle` por um outro terminal:"
      ],
      "metadata": {
        "id": "_YkTgAWqcQz7"
      }
    },
    {
      "cell_type": "code",
      "source": [
        "# Terminal 4\n",
        "rosservice call /move_bot_in_circle [TAB]+[TAB]"
      ],
      "metadata": {
        "id": "wrdmUADhcddL"
      },
      "execution_count": null,
      "outputs": []
    },
    {
      "cell_type": "markdown",
      "source": [
        "Tudo certo? O robô está se movimentando com trajetória circular!"
      ],
      "metadata": {
        "id": "BQ5iGSRcclLI"
      }
    },
    {
      "cell_type": "markdown",
      "source": [
        "## Criando um serviço para seu robô - parte 2"
      ],
      "metadata": {
        "id": "VV3JQOXLhFJ6"
      }
    },
    {
      "cell_type": "markdown",
      "source": [
        "* Na segunda parte desta seção, iremos criar um launch file chamado `start_bot_move_in_circle_service_server.launch`.\n",
        "\n",
        "* Dentro do arquivo launch, vamos inicializar um nó que executa `move_bot_in_circle_service_server.py`\n",
        "\n",
        "* Na pasta `my_examples_pkg/scripts`, crie o seguinte arquivo launch:"
      ],
      "metadata": {
        "id": "j1g4gebmhLPc"
      }
    },
    {
      "cell_type": "code",
      "source": [
        "# No terminal 1\n",
        "cd catkin_ws\n",
        "source devel/setup.bash\n",
        "roscd my_examples_pkg/scripts\n",
        "touch start_bot_move_in_circle_service_server.launch"
      ],
      "metadata": {
        "id": "aoVKT2OmibU7"
      },
      "execution_count": null,
      "outputs": []
    },
    {
      "cell_type": "code",
      "source": [
        "<launch>\n",
        "    <!-- Start Service Server for move_bot_in_circle service -->\n",
        "    <node pkg=\"my_examples_pkg\" type=\"move_bot_in_circle_service_server.py\" name=\"service_move_bot_in_circle_server\"  output=\"screen\">\n",
        "    </node>\n",
        "</launch>"
      ],
      "metadata": {
        "id": "fnbOS6HKh7L5"
      },
      "execution_count": null,
      "outputs": []
    },
    {
      "cell_type": "markdown",
      "source": [
        "Teste seu arquivo launch iniciando `start_bot_move_in_circle_service_server.launch`, e chamando o serviço como antes. É exatamente o mesmo procedimento, só que estamos iniciando o servidor de serviço por meio de um arquivo launch ao invés de diretamente por um arquivo python."
      ],
      "metadata": {
        "id": "IY9ADEoKjktz"
      }
    },
    {
      "cell_type": "code",
      "source": [
        "# No terminal 1\n",
        "cd ~/catkin_ws/\n",
        "catkin_make\n",
        "# Abrindo um empty world\n",
        "# Na pasta ~/catkin_ws, execute:\n",
        "source devel/setup.bash\n",
        "roslaunch gazebo_ros empty_world.launch"
      ],
      "metadata": {
        "id": "5er80KpSlO3u"
      },
      "execution_count": null,
      "outputs": []
    },
    {
      "cell_type": "code",
      "source": [
        "# No terminal 2, mude seu diretorio para o workspace catkin\n",
        "cd ~/catkin_ws/\n",
        "source devel/setup.bash\n",
        "# Na pasta ~/catkin_ws, execute:\n",
        "roslaunch m2wr_description spawn.launch"
      ],
      "metadata": {
        "id": "zkgrRKCAlS8m"
      },
      "execution_count": null,
      "outputs": []
    },
    {
      "cell_type": "code",
      "source": [
        "# Terminal 3\n",
        "cd catkin_ws\n",
        "source devel/setup.bash\n",
        "roslaunch my_examples_pkg start_bot_move_in_circle_service_server.launch"
      ],
      "metadata": {
        "id": "fyOWG2yvk6QU"
      },
      "execution_count": null,
      "outputs": []
    },
    {
      "cell_type": "code",
      "source": [
        "# Terminal 4\n",
        "rosservice call /move_bot_in_circle [TAB]+[TAB]"
      ],
      "metadata": {
        "id": "rtCDb5WWlKPA"
      },
      "execution_count": null,
      "outputs": []
    },
    {
      "cell_type": "markdown",
      "source": [
        "## Criando um serviço para seu robô - parte 3"
      ],
      "metadata": {
        "id": "cTrBlDwBlmg-"
      }
    },
    {
      "cell_type": "markdown",
      "source": [
        "* Agora iremos criar um novo script Python chamado `bot_move_in_circle_service_client.py` que chama o serviço `/move_bot_in_circle`. \n",
        "\n",
        "* O novo arquivo Python também será criado dentro do pasta `my_examples_pkg/scripts`.\n",
        "\n",
        "* Copie e cole o código abaixo no arquivo `bot_move_in_circle_service_client.py`"
      ],
      "metadata": {
        "id": "A9d_0a0mlvXD"
      }
    },
    {
      "cell_type": "code",
      "source": [
        "#! /usr/bin/env python3\n",
        "import rospkg\n",
        "import rospy\n",
        "# importa as classes python de mensagem de serviço geradas de Empty.srv\n",
        "from std_srvs.srv import Empty, EmptyRequest \n",
        "\n",
        "# Inicializa um no ROS\n",
        "rospy.init_node('service_move_bot_in_circle_client') \n",
        "\n",
        "# Aguarda o cliente de serviço /move_bot_in_circle entrar em execução\n",
        "rospy.wait_for_service('/move_bot_in_circle') \n",
        "\n",
        "# Crie a conexão com o serviço que queremos chamar\n",
        "move_bot_in_circle_service_client = rospy.ServiceProxy('/move_bot_in_circle', Empty)\n",
        "\n",
        "# cria um objeto do tipo EmptyRequest\n",
        "move_bot_in_circle_request_object = EmptyRequest() \n",
        "\n",
        "# Envia através da conexão o caminho para o arquivo de trajetória a ser executado\n",
        "result = move_bot_in_circle_service_client(move_bot_in_circle_request_object)\n",
        "\n",
        "# Imprime o resultado dado pelo serviço chamado\n",
        "print(result) "
      ],
      "metadata": {
        "id": "4SkqmWiVtT7j"
      },
      "execution_count": null,
      "outputs": []
    },
    {
      "cell_type": "markdown",
      "source": [
        "Lembre-se de tornar o arquivo executável:"
      ],
      "metadata": {
        "id": "sIj1wpgCuPtW"
      }
    },
    {
      "cell_type": "code",
      "source": [
        "# Terminal 1\n",
        "chmod +x bot_move_in_circle_service_client.py"
      ],
      "metadata": {
        "id": "Kxl_w2c3uWgX"
      },
      "execution_count": null,
      "outputs": []
    },
    {
      "cell_type": "markdown",
      "source": [
        "* Feito isso, criamos um arquivo launch chamado `call_bot_move_in_circle_service_server.launch` que irá executar, através de um nó, o script `bot_move_in_circle_service_client.py`.\n",
        "\n",
        "* Como anteriormente, criamos o arquivo launch com o seguinte código:"
      ],
      "metadata": {
        "id": "des9laoWuhhL"
      }
    },
    {
      "cell_type": "code",
      "source": [
        "<launch>\n",
        "    <!-- Start Service Client for move_bot_in_circle service -->\n",
        "    <node pkg=\"my_examples_pkg\" type=\"bot_move_in_circle_service_client.py\" name=\"service_move_bot_in_circle_client\"  output=\"screen\">\n",
        "    </node>\n",
        "</launch>"
      ],
      "metadata": {
        "id": "NoVBIi-et9Q_"
      },
      "execution_count": null,
      "outputs": []
    },
    {
      "cell_type": "markdown",
      "source": [
        "* Quando executamos o arquivo `call_bot_move_in_circle_service_server.launch`, nosso robô deve se mover com trajetória ciruclar.\n",
        "\n",
        "* Isso deve funcionar exatamente da mesma maneira que as outras chamadas que você realizou\n",
        "\n",
        "* Neste caso, porém, você executa `start_bot_move_in_circle_service_server.launch` e, em outro terminal, você executa `call_bot_move_in_circle_service_server.launch`."
      ],
      "metadata": {
        "id": "zpj-G4uRvDEl"
      }
    },
    {
      "cell_type": "code",
      "source": [
        "# No terminal 1\n",
        "cd ~/catkin_ws/\n",
        "catkin_make\n",
        "# Abrindo um empty world\n",
        "# Na pasta ~/catkin_ws, execute:\n",
        "source devel/setup.bash\n",
        "roslaunch gazebo_ros empty_world.launch"
      ],
      "metadata": {
        "id": "6c3_--KoxVia"
      },
      "execution_count": null,
      "outputs": []
    },
    {
      "cell_type": "code",
      "source": [
        "# No terminal 2, mude seu diretorio para o workspace catkin\n",
        "cd ~/catkin_ws/\n",
        "source devel/setup.bash\n",
        "# Na pasta ~/catkin_ws, execute:\n",
        "roslaunch m2wr_description spawn.launch"
      ],
      "metadata": {
        "id": "Et_aDmrPxX6Q"
      },
      "execution_count": null,
      "outputs": []
    },
    {
      "cell_type": "code",
      "source": [
        "# Terminal 3\n",
        "cd catkin_ws\n",
        "source devel/setup.bash\n",
        "roslaunch my_examples_pkg start_bot_move_in_circle_service_server.launch"
      ],
      "metadata": {
        "id": "ZUCKySCJxZ56"
      },
      "execution_count": null,
      "outputs": []
    },
    {
      "cell_type": "code",
      "source": [
        "# Terminal 4\n",
        "cd catkin_ws\n",
        "source devel/setup.bash\n",
        "roslaunch my_examples_pkg call_bot_move_in_circle_service_server.launch"
      ],
      "metadata": {
        "id": "TWUu9L61xdk5"
      },
      "execution_count": null,
      "outputs": []
    },
    {
      "cell_type": "markdown",
      "source": [
        "# Parte 12: Entendendo Ações em ROS"
      ],
      "metadata": {
        "id": "9QZG94VBQKC5"
      }
    },
    {
      "cell_type": "markdown",
      "source": [
        "## 12.1 Instalando os arquivos necessários"
      ],
      "metadata": {
        "id": "VqiobQyg6moK"
      }
    },
    {
      "cell_type": "markdown",
      "source": [
        "Antes de compilar os pacotes necessários para nossa simulação, precisaremos instalar a biblioteca Ignition Math."
      ],
      "metadata": {
        "id": "sC-aYBTF7g4f"
      }
    },
    {
      "cell_type": "code",
      "source": [
        "sudo sh -c 'echo \"deb http://packages.osrfoundation.org/gazebo/ubuntu-stable `lsb_release -cs` main\" > /etc/apt/sources.list.d/gazebo-stable.list'\n",
        "wget http://packages.osrfoundation.org/gazebo.key -O - | sudo apt-key add -\n",
        "sudo apt-get update\n",
        "sudo apt-get install libignition-math4-dev -y"
      ],
      "metadata": {
        "id": "JqpOZadm7QQ3"
      },
      "execution_count": null,
      "outputs": []
    },
    {
      "cell_type": "markdown",
      "source": [
        "Agora que temos a biblioteca `ignition math` instalada, podemos continuar a compilar os pacotes em nosso workspace.\n",
        "\n",
        "* Note: Ao compilar o pacote, pode acontecer de o `catkin_make` não encontrar a biblioteca `ignition`. Para evitar que isto aconteça, executamos os seguintes comandos"
      ],
      "metadata": {
        "id": "XuglS_j77yAT"
      }
    },
    {
      "cell_type": "code",
      "source": [
        "cd ~/catkin_ws\n",
        "export CXXFLAGS=-isystem\\ /usr/include/ignition/math4\n",
        "source /opt/ros/noetic/setup.bash\n",
        "catkin_make"
      ],
      "metadata": {
        "id": "L2loyNP58QGK"
      },
      "execution_count": null,
      "outputs": []
    },
    {
      "cell_type": "markdown",
      "source": [
        "É sempre bom lembrar que, uma vez que o pacote for compilado, é preciso executar o comando `source devel/setup.bash` em todos os terminais que utilizarmos. Isso é necessário para que o ROS possa encontrar os pacotes já compilados. Então, em todo terminal faremos:"
      ],
      "metadata": {
        "id": "rilcQTt_8YXO"
      }
    },
    {
      "cell_type": "code",
      "source": [
        "# Terminal 1 \n",
        "cd ~/catkin_ws/\n",
        "source devel/setup.bash"
      ],
      "metadata": {
        "id": "-ebIZC5T8W-2"
      },
      "execution_count": null,
      "outputs": []
    },
    {
      "cell_type": "markdown",
      "source": [
        "## 12.2 Rodando a simulação"
      ],
      "metadata": {
        "id": "Y8QgKvNk83TG"
      }
    },
    {
      "cell_type": "markdown",
      "source": [
        "Agora que temos todos os arquivos necessários, rodamos a simulação do drone através dos comandos:"
      ],
      "metadata": {
        "id": "-c0z80Ou86Dk"
      }
    },
    {
      "cell_type": "code",
      "source": [
        "# Terminal 1\n",
        "source ~/catkin_ws/devel/setup.bash\n",
        "rosrun drone_construct start_simulation_localy.sh"
      ],
      "metadata": {
        "id": "Mw3HI1Mw9Cvx"
      },
      "execution_count": null,
      "outputs": []
    },
    {
      "cell_type": "markdown",
      "source": [
        "Para decolar nosso drone, fazemos:"
      ],
      "metadata": {
        "id": "8Q9FkwfA9IlU"
      }
    },
    {
      "cell_type": "code",
      "source": [
        "# Terminal 2\n",
        "cd ~/catkin_ws/\n",
        "source devel/setup.bash\n",
        "rostopic pub /drone/takeoff std_msgs/Empty \"{}\""
      ],
      "metadata": {
        "id": "gkC15ouq9R3y"
      },
      "execution_count": null,
      "outputs": []
    },
    {
      "cell_type": "markdown",
      "source": [
        "Pressione CTRL+C para pará-lo e poder digitar mais comandos. Neste caso, os comandos para mover o drone com o teclado."
      ],
      "metadata": {
        "id": "z4m4A5Sw9iPo"
      }
    },
    {
      "cell_type": "code",
      "source": [
        "# Terminal 3 \n",
        "cd ~/catkin_ws/\n",
        "source devel/setup.bash\n",
        "rosrun teleop_twist_keyboard teleop_twist_keyboard.py"
      ],
      "metadata": {
        "id": "eSe32YO79kLm"
      },
      "execution_count": null,
      "outputs": []
    },
    {
      "cell_type": "markdown",
      "source": [
        "Para pousar o drone, basta publicar no tópico `/drone/land`:"
      ],
      "metadata": {
        "id": "vAWa417i9tmS"
      }
    },
    {
      "cell_type": "code",
      "source": [
        "# Terminal 3\n",
        "rostopic pub /drone/land std_msgs/Empty \"{}\""
      ],
      "metadata": {
        "id": "YZ7vue8393mp"
      },
      "execution_count": null,
      "outputs": []
    },
    {
      "cell_type": "markdown",
      "source": [
        "Lembre-se:\n",
        "\n",
        "* `rosrun`: comando ROS que permite executar um programa ROS sem ter que criar um arquivo de inicialização para iniciá-lo .\n",
        "\n",
        "* `teleop_twist_keyboard`: Nome do pacote onde está o programa ROS. Nesse caso, onde está o executável python.\n",
        "\n",
        "* `teleop_twist_keyboard.py`: executável Python que será executado. Neste caso, é um executável que permite inserir comandos de movimento através do teclado. Quando executado, exibe as instruções para mover o robô."
      ],
      "metadata": {
        "id": "UQQOF_f397Wa"
      }
    },
    {
      "cell_type": "markdown",
      "source": [
        "## 12.3 O que são as ações?"
      ],
      "metadata": {
        "id": "-oum-szL-UuI"
      }
    },
    {
      "cell_type": "markdown",
      "source": [
        "* As ações são como chamadas assíncronas para serviços\n",
        "\n",
        "* As ações são muito semelhantes aos serviços. Ao chamar uma ação, você está chamando uma funcionalidade que outro nó está fornecendo. Exatamente o mesmo que com os serviços. A diferença é que quando um nó chama um serviço, ele deve esperar até que o serviço termine. Já quando um nó chama uma ação, ele não precisa necessariamente esperar que a ação seja concluída.\n",
        "\n",
        "* Portanto, uma ação é uma chamada assíncrona para a funcionalidade de outro nó.\n",
        "\n",
        "* O nó que fornece a funcionalidade deve conter um servidor de ação. O servidor de ação permite que outros nós chamem essa funcionalidade de ação.\n",
        "\n",
        "* O nó que chama a funcionalidade deve conter um cliente de ação. O cliente de ação permite que um nó se conecte ao servidor de ação de outro nó."
      ],
      "metadata": {
        "id": "J2hZbjB3-Yxw"
      }
    },
    {
      "cell_type": "markdown",
      "source": [
        "Abra um terminal e execute:"
      ],
      "metadata": {
        "id": "4zbbaS2_2rj-"
      }
    },
    {
      "cell_type": "code",
      "source": [
        "# Terminal 1\n",
        "cd ~/catkin_ws/\n",
        "source devel/setup.bash\n",
        "roslaunch ardrone_as action_server.launch"
      ],
      "metadata": {
        "id": "x2Jtfn-d2u_1"
      },
      "execution_count": null,
      "outputs": []
    },
    {
      "cell_type": "markdown",
      "source": [
        "Alguns comandos interessantes:\n",
        "\n",
        "Para saber a lista completa de tópicos disponíveis, executamos\n",
        "> `rostopic list`\n",
        "\n",
        "Para saber a lista completa de serviços disponíveis, executamos\n",
        "\n",
        "\n",
        "> `rosservice list`\n",
        "\n",
        "Para saber a lista completa de ações disponíveis, executamos\n",
        "\n",
        "> `rostopic list`\n",
        "\n",
        "Quando um robô fornece uma ação, você encontrará esta ação na lista de tópicos. São 5 tópicos com o mesmo nome base, e com os subtópicos cancel, feedback, goal, result, status. Por exemplo:\n",
        "\n",
        "```\n",
        "ardrone_action_server/cancel\n",
        "ardrone_action_server/feedback\n",
        "ardrone_action_server/goal\n",
        "ardrone_action_server/result\n",
        "ardrone_action_server/status\n",
        "```\n",
        "\n",
        "Cada servidor de ação (Action server) cria esses 5 tópicos.\n",
        "\n",
        "Portanto, no exemplo acima:\n",
        "\n",
        "* `ardrone_action_server`: É o nome do Action Server.\n",
        "\n",
        "* cancel, feedback, goal, result e status: São as mensagens utilizadas para comunicação com o Action Server.\n"
      ],
      "metadata": {
        "id": "ZcK8jmfmdlCx"
      }
    },
    {
      "cell_type": "markdown",
      "source": [
        "## 12.4 Chamando um servidor de ação\n"
      ],
      "metadata": {
        "id": "eRuwvXz1fJW8"
      }
    },
    {
      "cell_type": "markdown",
      "source": [
        "\n",
        "O servidor de ação `ardrone_action_server` é uma ação que você pode chamar. Se você chamá-lo, ele começará a tirar fotos com a câmera frontal, uma foto a cada segundo, pela quantidade de segundos especificada na mensagem de chamada (é um parâmetro que você especifica na chamada).\n",
        "\n",
        "Chamar um servidor de ação significa enviar uma mensagem para ele. Da mesma forma que com tópicos e serviços, tudo funciona passando mensagens.\n",
        "\n",
        "* A mensagem de um tópico é composta por uma única parte: as informações que o tópico fornece.\n",
        "\n",
        "* A mensagem de um serviço tem duas partes: a solicitação e a resposta.\n",
        "\n",
        "\n",
        "* A mensagem de um servidor de ação é dividida em três partes: o objetivo, o resultado e o feedback.\n",
        "Todas as mensagens de ação usadas são definidas no diretório de ações de seu pacote.\n",
        "\n",
        "Você pode ir ao pacote `ardrone_as` e ver que ele contém um diretório chamado action. Dentro desse diretório de ação, há um arquivo chamado `Ardrone.action`. Esse é o arquivo que especifica o tipo de mensagem que a ação usa."
      ],
      "metadata": {
        "id": "8OVH6HEdgNZ8"
      }
    },
    {
      "cell_type": "markdown",
      "source": [
        "### Feedback de uma ação"
      ],
      "metadata": {
        "id": "AWShDPlsgEB7"
      }
    },
    {
      "cell_type": "markdown",
      "source": [
        "Como chamar um servidor de ação não interrompe o que seu robô está fazendo, os servidores de ação fornecem uma mensagem de feedback. \n",
        "\n",
        "* O feedback é uma mensagem que o servidor de ação gera de vez em quando para indicar como a ação está indo (informando sobre o status da ação solicitada). \n",
        "\n",
        "* É gerado enquanto a ação está em andamento."
      ],
      "metadata": {
        "id": "zTQULGdigJfo"
      }
    },
    {
      "cell_type": "markdown",
      "source": [
        "### Como chamar um servidor de ação"
      ],
      "metadata": {
        "id": "zN-Yy9nwg5mp"
      }
    },
    {
      "cell_type": "markdown",
      "source": [
        "O servidor de ação é chamado através de um cliente de ação.\n",
        "\n",
        "A seguir iremos implementar um cliente de ação que chama o ardrone_action_server e o faz tirar fotos por 10 segundos."
      ],
      "metadata": {
        "id": "dijOK5fDiVS_"
      }
    },
    {
      "cell_type": "markdown",
      "source": [
        "Na pasta do pacote my_examples_pkg que criamos anteriormente, crie o seguinte arquivo Python:"
      ],
      "metadata": {
        "id": "114oBveRijM3"
      }
    },
    {
      "cell_type": "code",
      "source": [
        "# Terminal 2\n",
        "cd catkin_ws\n",
        "source devel/setup.bash\n",
        "roscd my_examples_pkg/scripts\n",
        "touch ardrone_action_client.py\n",
        "chmod +x ardrone_action_client.py"
      ],
      "metadata": {
        "id": "0Lxd1JFTixyE"
      },
      "execution_count": null,
      "outputs": []
    },
    {
      "cell_type": "markdown",
      "source": [
        "Lembre-se que você tem que ter o `roslaunch ardrone_as action_server.launch` rodando (provavelmente no Terminal 1), caso contrário nosso exemplo não funcionará porque não haverá nenhum servidor de ação para ser conectado."
      ],
      "metadata": {
        "id": "fn9G0xzUi4BJ"
      }
    },
    {
      "cell_type": "markdown",
      "source": [
        "No arquivo ardrone_action_client.py, cole o script a seguir:"
      ],
      "metadata": {
        "id": "5Yt8ZAyIjGs7"
      }
    },
    {
      "cell_type": "code",
      "source": [
        "#! /usr/bin/env python3\n",
        "import rospy\n",
        "import time\n",
        "import actionlib\n",
        "from ardrone_as.msg import ArdroneAction, ArdroneGoal, ArdroneResult, ArdroneFeedback\n",
        "\n",
        "nImage = 1\n",
        "\n",
        "# definindo o callback de feedback. Este callback será chamando quando feeback\n",
        "# é recebido do servidor de ação\n",
        "# ele apenas imprime uma mensagem indicando que uma nova mensagem foi recebida\n",
        "def feedback_callback(feedback):\n",
        "    global nImage\n",
        "    print('[Feedback] image n.%d received'%nImage)\n",
        "    nImage += 1\n",
        "\n",
        "# inicializa o nó do cliente da ação\n",
        "rospy.init_node('drone_action_client')\n",
        "\n",
        "# cria a conexão com o servidor de ação\n",
        "client = actionlib.SimpleActionClient('/ardrone_action_server', ArdroneAction)\n",
        "# espera até que o servidor de ação esteja funcionando\n",
        "client.wait_for_server()\n",
        "\n",
        "# cria um objetivo a ser enviado para o servidor de ação\n",
        "goal = ArdroneGoal()\n",
        "# indica que iremos tirar fotos por 10 segundos\n",
        "goal.nseconds = 10 \n",
        "\n",
        "# envia o objetivo para o servidor de ação, especificando qual função de feedback \n",
        "# deve ser chamada quando uma mensagem de feedback for recebida.\n",
        "client.send_goal(goal, feedback_cb=feedback_callback)\n",
        "\n",
        "# As duas linhas a seguir podem ser utilizadas para interromper a execução de um objetivo these lines to test goal preemption:\n",
        "#time.sleep(3.0)\n",
        "# cancela o objetivo após 3s\n",
        "#client.cancel_goal()  \n",
        "\n",
        "# espera até que o resultado seja obtido\n",
        "# podemos fazer outras coisas ao invés de esperar o resultado\n",
        "# Se preferir, podemos checar o resultado de tempos em tempos \n",
        "# status = client.get_state()\n",
        "\n",
        "\n",
        "client.wait_for_result()\n",
        "\n",
        "print('[Result] State: %d'%(client.get_state()))"
      ],
      "metadata": {
        "id": "vscJjeCIjQjA"
      },
      "execution_count": null,
      "outputs": []
    },
    {
      "cell_type": "markdown",
      "source": [
        "Agora execute o seguinte comando:"
      ],
      "metadata": {
        "id": "44o1zu2vjVvJ"
      }
    },
    {
      "cell_type": "code",
      "source": [
        "# Terminal 2\n",
        "cd catkin_ws\n",
        "source devel/setup.bash\n",
        "rosrun my_examples_pkg ardrone_action_client.py"
      ],
      "metadata": {
        "id": "o7dVAyy2jbNg"
      },
      "execution_count": null,
      "outputs": []
    },
    {
      "cell_type": "markdown",
      "source": [
        "### Explicando o código do cliente de ação"
      ],
      "metadata": {
        "id": "v49-5_lLmlcK"
      }
    },
    {
      "cell_type": "markdown",
      "source": [
        "Em resumo, o código para chamar um servidor de ação é bem simples:\n",
        "\n",
        "* Primeiro criamos um cliente a ser conectado no servidor de ação que desejamos"
      ],
      "metadata": {
        "id": "n_qnHIKYjqpw"
      }
    },
    {
      "cell_type": "code",
      "source": [
        "client = actionlib.SimpleActionClient('/ardrone_action_server', ArdroneAction)\n",
        "client = actionlib.SimpleActionClient('/the_action_server_name', the_action_server_message_python_object)"
      ],
      "metadata": {
        "id": "vJ7FNbH0j-CQ"
      },
      "execution_count": null,
      "outputs": []
    },
    {
      "cell_type": "markdown",
      "source": [
        "* O primeiro parâmetro é o nome do servidor de ação ao qual você deseja se conectar.\n",
        "* O segundo parâmetro é o tipo de mensagem de ação que ele usa. A convenção é a seguinte:\n",
        "\n",
        "  * Se seu arquivo de mensagem de ação foi chamado **Ardrone.action**, o tipo de mensagem de ação que você deve especificar é **ArdroneAction**\n",
        "\n",
        "* No nosso tutorial, \n",
        "> `client = actionlib.SimpleAction('/ardrone_action_server', ArdroneAction)`\n",
        "\n",
        "* Depois criamos nosso objetivo (goal)\n",
        "> `goal = ArdroneGoal()`\n",
        "\n",
        "  * Novamente, a convenção é a seguinte: Se seu arquivo de mensagem de ação foi chamado Ardrone.action, o tipo de mensagem de objetivo que você deve especificar é ArdroneGoal()\n",
        "  * Como a mensagem de objetivo deve fornecer o número de segundos que nosso robô irá tirar fotos (na variável nseconds), você deve definir esse parâmetro como:\n",
        "  > `goal.nseconds = 10`\n",
        "\n",
        "* O próximo passo é enviar o objetivo para o servidor de ação\n",
        "> `client.send_goal(goal, feedback_cb=feedback_callback)`\n",
        "\n",
        "* O comando acima chama a ação. Para chamá-la, precisamos definir 2 parâmetros:\n",
        "    * Os parâmetros do objetivo (goal)\n",
        "    * Uma função de feedback a ser chamada de tempos em tempos para saber o status da ação.\n",
        "\n",
        "* Neste ponto, o servidor de ação recebeu o objetivo e começou a executá-lo (tirar fotos por 10 segundos). Além disso, mensagens de feedback estão sendo recebidas. Toda vez que uma mensagem de feedback é recebida, a função `feedback_callback` é executada.\n",
        "\n",
        "* Agora esperamos pelo resultado\n",
        "> `client.wait_for_result()`"
      ],
      "metadata": {
        "id": "HS3dG6Stj_SY"
      }
    },
    {
      "cell_type": "markdown",
      "source": [
        "## 12.5 Criando um Servidor de Ação Genérico"
      ],
      "metadata": {
        "id": "gKkvfBIKT8YM"
      }
    },
    {
      "cell_type": "markdown",
      "source": [
        "Até agora aprendemos como chamar um servidor de ação. Neste módulo, iremos aprender a criar nosso próprio servidor de ação.\n",
        "\n",
        "A seguir temos um exemplo de código de um servidor de ação ROS. Quando chamado, o servidor de ação irá gerar uma [sequência de Fibonacci](https://en.wikipedia.org/wiki/Fibonacci_number) de uma determinada ordem. A mensagem de objetivo do servidor de ação deve indicar a ordem da sequência a ser calculada, o feedback da sequência conforme ela está sendo calculada e o resultado da sequência final de Fibonacci.\n",
        "\n",
        "Crie o arquivo Python `fibonacci_action_server.py` no pacote `my_examples_pkg` como mostrado a seguir."
      ],
      "metadata": {
        "id": "YjS4ldZNWh2O"
      }
    },
    {
      "cell_type": "code",
      "source": [
        "# Terminal 1\n",
        "cd catkin_ws\n",
        "source devel/setup.bash\n",
        "roscd my_examples_pkg/scripts\n",
        "touch fibonacci_action_server.py\n",
        "chmod +x fibonacci_action_server.py"
      ],
      "metadata": {
        "id": "eWJT1ohlXMVG"
      },
      "execution_count": null,
      "outputs": []
    },
    {
      "cell_type": "code",
      "source": [
        "#! /usr/bin/env python3\n",
        "import rospy\n",
        "\n",
        "import actionlib\n",
        "\n",
        "from actionlib_tutorials.msg import FibonacciFeedback, FibonacciResult, FibonacciAction\n",
        "\n",
        "class FibonacciClass(object):\n",
        "    \n",
        "  # cria mensagens que serão usadas para publicar feedback e resultado\n",
        "  _feedback = FibonacciFeedback()\n",
        "  _result   = FibonacciResult()\n",
        "\n",
        "  def __init__(self):\n",
        "    # creates the action server\n",
        "    self._as = actionlib.SimpleActionServer(\"fibonacci_as\", FibonacciAction, self.goal_callback, False)\n",
        "    self._as.start()\n",
        "    \n",
        "  def goal_callback(self, goal):\n",
        "    # this callback is called when the action server is called.\n",
        "    # this is the function that computes the Fibonacci sequence\n",
        "    # and returns the sequence to the node that called the action server\n",
        "    \n",
        "    # helper variables\n",
        "    r = rospy.Rate(1)\n",
        "    success = True\n",
        "    \n",
        "    # append the seeds for the fibonacci sequence\n",
        "    self._feedback.sequence = []\n",
        "    self._feedback.sequence.append(0)\n",
        "    self._feedback.sequence.append(1)\n",
        "    \n",
        "    # publish info to the console for the user\n",
        "    rospy.loginfo('\"fibonacci_as\": Executing, creating fibonacci sequence of order %i with seeds %i, %i' % ( goal.order, self._feedback.sequence[0], self._feedback.sequence[1]))\n",
        "    \n",
        "    # starts calculating the Fibonacci sequence\n",
        "    fibonacciOrder = goal.order\n",
        "    for i in range(1, fibonacciOrder):\n",
        "    \n",
        "      # check that preempt (cancelation) has not been requested by the action client\n",
        "      if self._as.is_preempt_requested():\n",
        "        rospy.loginfo('The goal has been cancelled/preempted')\n",
        "        # the following line, sets the client in preempted state (goal cancelled)\n",
        "        self._as.set_preempted()\n",
        "        success = False\n",
        "        # Interromompe o c\n",
        "        break\n",
        "      \n",
        "      # builds the next feedback msg to be sent\n",
        "      self._feedback.sequence.append(self._feedback.sequence[i] + self._feedback.sequence[i-1])\n",
        "      # publish the feedback\n",
        "      self._as.publish_feedback(self._feedback)\n",
        "      # the sequence is computed at 1 Hz frequency\n",
        "      r.sleep()\n",
        "    \n",
        "    # at this point, either the goal has been achieved (success==true)\n",
        "    # or the client preempted the goal (success==false)\n",
        "    # If success, then we publish the final result\n",
        "    # If not success, we do not publish anything in the result\n",
        "    if success:\n",
        "      self._result.sequence = self._feedback.sequence\n",
        "      rospy.loginfo('Succeeded calculating the Fibonacci of order %i' % fibonacciOrder )\n",
        "      self._as.set_succeeded(self._result)\n",
        "      \n",
        "if __name__ == '__main__':\n",
        "  rospy.init_node('fibonacci')\n",
        "  FibonacciClass()\n",
        "  rospy.spin()"
      ],
      "metadata": {
        "id": "R1LIp0i_XXj8"
      },
      "execution_count": null,
      "outputs": []
    },
    {
      "cell_type": "code",
      "source": [
        "# Terminal 1\n",
        "roscore"
      ],
      "metadata": {
        "id": "VULNzRVVXb9a"
      },
      "execution_count": null,
      "outputs": []
    },
    {
      "cell_type": "code",
      "source": [
        "# Terminal 2\n",
        "cd catkin_ws\n",
        "source devel/setup.bash\n",
        "rosrun my_examples_pkg fibonacci_action_server.py"
      ],
      "metadata": {
        "id": "rbXEpU5clSJD"
      },
      "execution_count": null,
      "outputs": []
    },
    {
      "cell_type": "code",
      "source": [
        "# Terminal 3\n",
        "cd catkin_ws\n",
        "source devel/setup.bash\n",
        "rostopic echo /fibonacci_as/result"
      ],
      "metadata": {
        "id": "qWh-5O4zlVzw"
      },
      "execution_count": null,
      "outputs": []
    },
    {
      "cell_type": "code",
      "source": [
        "# Terminal 4\n",
        "cd catkin_ws\n",
        "source devel/setup.bash\n",
        "rostopic echo /fibonacci_as/feedback"
      ],
      "metadata": {
        "id": "quJUsi4QlhYK"
      },
      "execution_count": null,
      "outputs": []
    },
    {
      "cell_type": "code",
      "source": [
        "# Terminal 5\n",
        "cd catkin_ws\n",
        "source devel/setup.bash\n",
        "rostopic pub /fibonacci_as/goal actionlib_tutorials/FibonacciActionGoal [TAB][TAB]"
      ],
      "metadata": {
        "id": "u6xP3jFullQK"
      },
      "execution_count": null,
      "outputs": []
    },
    {
      "cell_type": "markdown",
      "source": [
        "Após ter chamado a ação, o tópico de feedback deve publicar o feedback e o resultado assim que os cálculos estiverem concluídos."
      ],
      "metadata": {
        "id": "ylD1LONulrat"
      }
    },
    {
      "cell_type": "markdown",
      "source": [
        "Lembre-se que o nome das mensagens (a classe) usadas no código Python são chamadas \n",
        "* FibonacciGoal \n",
        "* FibonacciResult\n",
        "* FibonacciFeedback\n",
        "\n",
        "enquanto o nome das mensagens usadas nos tópicos são chamados de \n",
        "* FibonacciActionGoal\n",
        "* FibonacciActionResult\n",
        "* FibonacciActionFeedback**."
      ],
      "metadata": {
        "id": "DaZArrIwdjTH"
      }
    },
    {
      "cell_type": "markdown",
      "source": [
        "### Explicando o código para criar um servidor de ação"
      ],
      "metadata": {
        "id": "BGpETiQdXkcc"
      }
    },
    {
      "cell_type": "markdown",
      "source": [
        "Nesse caso, o servidor de ação está usando uma definição de mensagem de ação chamada Fibonacci.action. \n",
        "\n",
        "Essa mensagem foi criada pelo ROS em seu pacote actionlib_tutorials."
      ],
      "metadata": {
        "id": "q3V6V9s_XqHN"
      }
    },
    {
      "cell_type": "code",
      "source": [
        "from actionlib_tutorials.msg import FibonacciFeedback, FibonacciResult, FibonacciAction"
      ],
      "metadata": {
        "id": "EW1LniT3XwfB"
      },
      "execution_count": null,
      "outputs": []
    },
    {
      "cell_type": "markdown",
      "source": [
        "Aqui estamos importando os objetos de mensagem gerados por este arquivo Fibonacci.action"
      ],
      "metadata": {
        "id": "paCwvBkcX1D3"
      }
    },
    {
      "cell_type": "code",
      "source": [
        "_feedback = FibonacciFeedback()\n",
        "_result   = FibonacciResult()"
      ],
      "metadata": {
        "id": "LIVPUzKpX0wL"
      },
      "execution_count": null,
      "outputs": []
    },
    {
      "cell_type": "markdown",
      "source": [
        "Aqui, estamos criando os objetos de mensagem que serão usados para publicar o feedback e o resultado da ação."
      ],
      "metadata": {
        "id": "FqTFNgY5X-sc"
      }
    },
    {
      "cell_type": "code",
      "source": [
        "def __init__(self):\n",
        "    # creates the action server\n",
        "    self._as = actionlib.SimpleActionServer(\"fibonacci_as\", FibonacciAction, self.goal_callback, False)\n",
        "    self._as.start()"
      ],
      "metadata": {
        "id": "3NQkEv7YYBJJ"
      },
      "execution_count": null,
      "outputs": []
    },
    {
      "cell_type": "markdown",
      "source": [
        "Este é o construtor da classe. Dentro deste construtor, estamos criando um Action Server que se chamará \"fibonacci_as\", que usará a mensagem Action FibonacciAction, e que terá uma função de callback chamada goal_callback, que será ativada cada vez que um novo objetivo for enviado para a Action Server."
      ],
      "metadata": {
        "id": "G5COQFBEYGii"
      }
    },
    {
      "cell_type": "code",
      "source": [
        "def goal_callback(self, goal):\n",
        "    \n",
        "    r = rospy.Rate(1)\n",
        "    success = True"
      ],
      "metadata": {
        "id": "_Ss4DD0EYL9l"
      },
      "execution_count": null,
      "outputs": []
    },
    {
      "cell_type": "markdown",
      "source": [
        "Aqui definimos a função callback do objetivo. Cada vez que uma nova meta é enviada para o Action Server, esta função será chamada."
      ],
      "metadata": {
        "id": "w4Zbehw_YMgi"
      }
    },
    {
      "cell_type": "code",
      "source": [
        "self._feedback.sequence = []\n",
        "self._feedback.sequence.append(0)\n",
        "self._feedback.sequence.append(1)\n",
        "    \n",
        "rospy.loginfo('\"fibonacci_as\": Executing, creating fibonacci sequence of order %i with seeds %i, %i' % ( goal.order, self._feedback.sequence[0], self._feedback.sequence[1]))"
      ],
      "metadata": {
        "id": "7X3Kne_EYXgG"
      },
      "execution_count": null,
      "outputs": []
    },
    {
      "cell_type": "markdown",
      "source": [
        "Inicializamos a sequência de Fibonacci e configuramos os primeiros valores dela. Além disso, imprimimos dados relacionados à sequência de Fibonacci que o Action Server irá calcular."
      ],
      "metadata": {
        "id": "anvALhlWYbi5"
      }
    },
    {
      "cell_type": "code",
      "source": [
        "fibonacciOrder = goal.order\n",
        "for i in range(1, fibonacciOrder):"
      ],
      "metadata": {
        "id": "x9nHxyfzYrA8"
      },
      "execution_count": null,
      "outputs": []
    },
    {
      "cell_type": "markdown",
      "source": [
        "Aqui, iniciamos um loop que roda até que o valor goal.order seja alcançado. Este valor é a ordem da sequência de Fibonacci que o usuário enviou do Action Client."
      ],
      "metadata": {
        "id": "GHWshdTkYvql"
      }
    },
    {
      "cell_type": "code",
      "source": [
        "if self._as.is_preempt_requested():\n",
        "    rospy.loginfo('The goal has been cancelled/preempted')\n",
        "    # the following line, sets the client in preempted state (goal cancelled)\n",
        "    self._as.set_preempted()\n",
        "    success = False\n",
        "    # we end the calculation of the Fibonacci sequence\n",
        "    break"
      ],
      "metadata": {
        "id": "qJV7kauKY2us"
      },
      "execution_count": null,
      "outputs": []
    },
    {
      "cell_type": "markdown",
      "source": [
        "Checamos se o objetivo foi cancelado."
      ],
      "metadata": {
        "id": "jd6InBsdZEN-"
      }
    },
    {
      "cell_type": "code",
      "source": [
        "self._feedback.sequence.append(self._feedback.sequence[i] + self._feedback.sequence[i-1])\n",
        "self._as.publish_feedback(self._feedback)\n",
        "r.sleep()"
      ],
      "metadata": {
        "id": "WlgxvXw5ZBNl"
      },
      "execution_count": null,
      "outputs": []
    },
    {
      "cell_type": "markdown",
      "source": [
        "Calculamos os valores da sequência de Fibonacci e publicamos cada vez que um novo valor da sequência é calculado."
      ],
      "metadata": {
        "id": "KPyIfY23ZOML"
      }
    },
    {
      "cell_type": "code",
      "source": [
        "if success:\n",
        "  self._result.sequence = self._feedback.sequence\n",
        "  rospy.loginfo('Succeeded calculating the Fibonacci of order %i' % fibonacciOrder )\n",
        "  self._as.set_succeeded(self._result)"
      ],
      "metadata": {
        "id": "nhyIcsfJZma5"
      },
      "execution_count": null,
      "outputs": []
    },
    {
      "cell_type": "markdown",
      "source": [
        "Se tudo der certo, publicamos o resultado, que é toda a sequência de Fibonacci, e configuramos a ação como sucedida usando a função `set_succeeded()`."
      ],
      "metadata": {
        "id": "ArQKBMkjdQKz"
      }
    },
    {
      "cell_type": "markdown",
      "source": [
        "## 12.6 Criando um Servidor de Ação para o Drone"
      ],
      "metadata": {
        "id": "8aQQLsBwC2zE"
      }
    },
    {
      "cell_type": "markdown",
      "source": [
        "Neste passo, criaremos um arquivo launch chamado `move_drone_square.launch` e também um script Python chamado `move_drone_square.py`"
      ],
      "metadata": {
        "id": "0FUgKBubC86L"
      }
    },
    {
      "cell_type": "code",
      "source": [
        "# Terminal 1\n",
        "cd catkin_ws\n",
        "source devel/setup.bash\n",
        "roscd my_examples_pkg/scripts\n",
        "touch move_drone_square.launch"
      ],
      "metadata": {
        "id": "JH_Q4TNwDgGJ"
      },
      "execution_count": null,
      "outputs": []
    },
    {
      "cell_type": "code",
      "source": [
        "<launch>\n",
        "    <node pkg=\"my_examples_pkg\" type=\"move_drone_square.py\" name=\"move_drone_square\" output=\"screen\" />\n",
        "</launch>"
      ],
      "metadata": {
        "id": "PtjP0BcyED_D"
      },
      "execution_count": null,
      "outputs": []
    },
    {
      "cell_type": "markdown",
      "source": [
        "Criando o arquivo Python:"
      ],
      "metadata": {
        "id": "FgX5lY0IE-9Q"
      }
    },
    {
      "cell_type": "code",
      "source": [
        "# Terminal 1\n",
        "roscd my_examples_pkg/scripts\n",
        "touch move_drone_square.py\n",
        "chmod +x move_drone_square.py"
      ],
      "metadata": {
        "id": "IZPZ5BMmFF4h"
      },
      "execution_count": null,
      "outputs": []
    },
    {
      "cell_type": "code",
      "source": [
        "#! /usr/bin/env python3\n",
        "import rospy\n",
        "import time\n",
        "import actionlib\n",
        "\n",
        "from actionlib.msg import TestFeedback, TestResult, TestAction\n",
        "from geometry_msgs.msg import Twist\n",
        "from std_msgs.msg import Empty\n",
        "\n",
        "class MoveSquareClass(object):\n",
        "    \n",
        "  # cria mensagens que serão usadasa para publicar feedback e resultado \n",
        "  _feedback = TestFeedback()\n",
        "  _result   = TestResult()\n",
        "\n",
        "  def __init__(self):\n",
        "    # cria o servidor de ação\n",
        "    self._as = actionlib.SimpleActionServer(\"move_drone_square_as\", TestAction, self.goal_callback, False)\n",
        "    self._as.start()\n",
        "    self.ctrl_c = False\n",
        "    self.rate = rospy.Rate(10)\n",
        "    \n",
        "  \n",
        "  def publish_once_in_cmd_vel(self, cmd):\n",
        "    \"\"\"\n",
        "    Isto é necessario porque a publicação em um tópico pode falhar na primeira vez \n",
        "    que tentamos publicar. Em sistemas de publicação contínua não há grande problema,\n",
        "    mas em sistemas que publicam apenas uma vez é muito importante.\n",
        "    \"\"\"\n",
        "    while not self.ctrl_c:\n",
        "        connections = self._pub_cmd_vel.get_num_connections()\n",
        "        if connections > 0:\n",
        "            self._pub_cmd_vel.publish(cmd)\n",
        "            rospy.loginfo(\"Publish in cmd_vel...\")\n",
        "            break\n",
        "        else:\n",
        "            self.rate.sleep()\n",
        "            \n",
        "  # função que interrompe o drone \n",
        "  def stop_drone(self):\n",
        "    rospy.loginfo(\"Stopping...\")\n",
        "    self._move_msg.linear.x = 0.0\n",
        "    self._move_msg.angular.z = 0.0\n",
        "    self.publish_once_in_cmd_vel(self._move_msg)\n",
        "        \n",
        "  # função para que o drone gire 90 graus\n",
        "  def turn_drone(self):\n",
        "    rospy.loginfo(\"Turning...\")\n",
        "    self._move_msg.linear.x = 0.0\n",
        "    self._move_msg.angular.z = 1.0\n",
        "    self.publish_once_in_cmd_vel(self._move_msg)\n",
        "    \n",
        "  # função para que o drone se mova para frente\n",
        "  def move_forward_drone(self):\n",
        "    rospy.loginfo(\"Moving forward...\")\n",
        "    self._move_msg.linear.x = 1.0\n",
        "    self._move_msg.angular.z = 0.0\n",
        "    self.publish_once_in_cmd_vel(self._move_msg)\n",
        "    \n",
        "  def goal_callback(self, goal):\n",
        "    # este callback é chamado quando o servidor de ação é chamado.\n",
        "    \n",
        "    # variáveis auxiliares\n",
        "    r = rospy.Rate(1)\n",
        "    success = True\n",
        "    \n",
        "    # define os diferentes nós publishers e mensagens que serão usados\n",
        "    self._pub_cmd_vel = rospy.Publisher('/cmd_vel', Twist, queue_size=1)\n",
        "    self._move_msg = Twist()\n",
        "    self._pub_takeoff = rospy.Publisher('/drone/takeoff', Empty, queue_size=1)\n",
        "    self._takeoff_msg = Empty()\n",
        "    self._pub_land = rospy.Publisher('/drone/land', Empty, queue_size=1)\n",
        "    self._land_msg = Empty()\n",
        "    \n",
        "    # faz o drone decolar\n",
        "    i=0\n",
        "    while not i == 3:\n",
        "        self._pub_takeoff.publish(self._takeoff_msg)\n",
        "        rospy.loginfo('Taking off...')\n",
        "        time.sleep(1)\n",
        "        i += 1\n",
        "    \n",
        "\n",
        "    # define os segundos para se mover em cada lado do quadrado (que é definido no objetivo) e define quantos segundos para virar\n",
        "    sideSeconds = goal.goal\n",
        "    turnSeconds = 1.8\n",
        "    \n",
        "    i = 0\n",
        "    for i in range(0, 4):\n",
        "    \n",
        "      # verifica se o cancelamento do objetivo não foi solicitado pelo cliente de ação\n",
        "      if self._as.is_preempt_requested():\n",
        "        rospy.loginfo('The goal has been cancelled/preempted')\n",
        "        # the following line, sets the client in preempted state (goal cancelled)\n",
        "        self._as.set_preempted()\n",
        "        success = False\n",
        "        break\n",
        "    \n",
        "      # Comandos para que o robô se mova para frente e gire robot\n",
        "      self.move_forward_drone()\n",
        "      time.sleep(sideSeconds)\n",
        "      self.turn_drone()\n",
        "      time.sleep(turnSeconds)\n",
        "      \n",
        "      # define e publica a mensagem de feedback\n",
        "      self._feedback.feedback = i\n",
        "      self._as.publish_feedback(self._feedback)\n",
        "      # a sequência é calculada na frequência de 1 Hz\n",
        "      r.sleep()\n",
        "    \n",
        "    # neste ponto, ou o objetivo foi alcançado (success==true)\n",
        "    # ou o cliente cancelou o objetivo (success==false)\n",
        "    # Em caso de sucesso, publicamos o resultado final\n",
        "    # Se não obtivermos sucesso, nada é publicado no resultado\n",
        "    if success:\n",
        "      self._result.result = (sideSeconds*4) + (turnSeconds*4)\n",
        "      rospy.loginfo('The total seconds it took the drone to perform the square was %i' % self._result.result )\n",
        "      self._as.set_succeeded(self._result)\n",
        "        \n",
        "      # faz o drone parar e aterrissar\n",
        "      self.stop_drone()\n",
        "      i=0\n",
        "      while not i == 3:\n",
        "          self._pub_land.publish(self._land_msg)\n",
        "          rospy.loginfo('Landing...')\n",
        "          time.sleep(1)\n",
        "          i += 1\n",
        "      \n",
        "if __name__ == '__main__':\n",
        "  rospy.init_node('move_square')\n",
        "  MoveSquareClass()\n",
        "  rospy.spin()"
      ],
      "metadata": {
        "id": "L4wHG_9QGSu7"
      },
      "execution_count": null,
      "outputs": []
    },
    {
      "cell_type": "markdown",
      "source": [
        "* No código acima estamos usando os segundos para mover em cada lado do quadrado para definir se o quadrado será maior ou menor. \n",
        "\n",
        "* Assim, se definirmos um número maior de segundos no nosso objetivo (goal), o quadrado será maior. \n",
        "\n",
        "* Lembre-se que o objetivo deste exercício é mostrar como construir um Servidor de Ação adequado que interaja com a meta, o feedback e o resultado da Ação.\n",
        "\n",
        "* Para testar este código, você deve primeiro iniciar o Action Server. \n",
        "\n",
        "* Você pode fazer isso usando o seguinte comando:"
      ],
      "metadata": {
        "id": "6iUSgeePGYFH"
      }
    },
    {
      "cell_type": "code",
      "source": [
        "# Terminal 1\n",
        "source ~/catkin_ws/devel/setup.bash\n",
        "rosrun drone_construct start_simulation_localy.sh"
      ],
      "metadata": {
        "id": "ucb39WG9GILo"
      },
      "execution_count": null,
      "outputs": []
    },
    {
      "cell_type": "code",
      "source": [
        "# Terminal 2\n",
        "source ~/catkin_ws/devel/setup.bash\n",
        "roslaunch my_examples_pkg move_drone_square.launch"
      ],
      "metadata": {
        "id": "1KC5JCKPHGp7"
      },
      "execution_count": null,
      "outputs": []
    },
    {
      "cell_type": "markdown",
      "source": [
        "Executando o comando abaixo, podemos checar o status do nosso servidor de ação."
      ],
      "metadata": {
        "id": "DPfkTjkpHNH0"
      }
    },
    {
      "cell_type": "code",
      "source": [
        "# Terminal 3\n",
        "cd catkin_ws\n",
        "source devel/setup.bash\n",
        "rostopic list | grep move_drone_square"
      ],
      "metadata": {
        "id": "IQmNsvwmHU3n"
      },
      "execution_count": null,
      "outputs": []
    },
    {
      "cell_type": "markdown",
      "source": [
        "Você deverá ver algo do tipo:"
      ],
      "metadata": {
        "id": "B58TNQkHECRf"
      }
    },
    {
      "cell_type": "code",
      "source": [
        "move_drone_square_as/cancel\n",
        "move_drone_square_as/feedback\n",
        "move_drone_square_as/goal\n",
        "move_drone_square_as/result\n",
        "move_drone_square_as/status"
      ],
      "metadata": {
        "id": "hqUgeVYmEBj3"
      },
      "execution_count": null,
      "outputs": []
    },
    {
      "cell_type": "markdown",
      "source": [
        "Isso quer dizer que seu servidor de ação está pronto para receber um objetivo."
      ],
      "metadata": {
        "id": "zRkn4VjvEH4r"
      }
    },
    {
      "cell_type": "markdown",
      "source": [
        "Agora vamos publicar uma meta neste Action Server. Você pode fazer isso por dois método:\n",
        "\n",
        "Criando um cliente de ação\n",
        "Publicar uma meta diretamente por meio dos tópicos de ação\n",
        "Para este caso, vamos usar o 2º método. Você deve então publicar uma mensagem no tópico move_drone_square_as/goal, assim:"
      ],
      "metadata": {
        "id": "XKAo72wMHVuJ"
      }
    },
    {
      "cell_type": "code",
      "source": [
        "# Terminal 3\n",
        "source ~/catkin_ws/devel/setup.bash\n",
        "rostopic pub /move_drone_square_as/goal actionlib/TestActionGoal \"header:\n",
        "  seq: 0\n",
        "  stamp:\n",
        "    secs: 0\n",
        "    nsecs: 0\n",
        "  frame_id: ''\n",
        "goal_id:\n",
        "  stamp:\n",
        "    secs: 0\n",
        "    nsecs: 0\n",
        "  id: ''\n",
        "goal:\n",
        "  goal: 2\""
      ],
      "metadata": {
        "id": "me2-1vGaFAir"
      },
      "execution_count": null,
      "outputs": []
    },
    {
      "cell_type": "markdown",
      "source": [
        "Por fim, você pode verificar os tópicos de feedback e resultado da ação, para saber se eles estão publicando os valores desejados."
      ],
      "metadata": {
        "id": "4jDauxyIFAN9"
      }
    },
    {
      "cell_type": "code",
      "source": [
        "# Terminal 4\n",
        "source ~/catkin_ws/devel/setup.bash\n",
        "rostopic echo /move_drone_square_as/feedback"
      ],
      "metadata": {
        "id": "Wh2QrOYfFsDz"
      },
      "execution_count": null,
      "outputs": []
    },
    {
      "cell_type": "code",
      "source": [
        "# Terminal 5\n",
        "source ~/catkin_ws/devel/setup.bash\n",
        "rostopic echo /move_drone_square_as/result"
      ],
      "metadata": {
        "id": "kj1Nxz69FyPA"
      },
      "execution_count": null,
      "outputs": []
    }
  ]
}